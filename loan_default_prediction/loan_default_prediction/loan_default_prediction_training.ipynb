{
 "cells": [
  {
   "cell_type": "markdown",
   "metadata": {},
   "source": [
    "# Dataset Information"
   ]
  },
  {
   "cell_type": "raw",
   "metadata": {},
   "source": [
    "Problem Statement: Goal is to build a model to accurately predict (target column APPLICATION.STATUS) the status of a loan application.\n",
    "\n",
    "You have to build - \n",
    "\n",
    "1) Straight  Through Process: Classify which cases are automatically (basis the set rules) being Approved or Declined by the system.\n",
    "\n",
    "2) Underwriter Cases: How will you build a predictive model to automate the eventual decision being manually made by the Underwriters (Approved or Declined).\n"
   ]
  },
  {
   "cell_type": "markdown",
   "metadata": {},
   "source": [
    "# Import Modules"
   ]
  },
  {
   "cell_type": "code",
   "execution_count": 2231,
   "metadata": {},
   "outputs": [],
   "source": [
    "\n",
    "import pandas as pd\n",
    "import numpy as np\n",
    "import datetime\n",
    "import seaborn as sns\n",
    "import pickle\n",
    "import os\n",
    "import matplotlib.pyplot as plt\n",
    "%matplotlib inline\n",
    "from sklearn.preprocessing import LabelEncoder,MinMaxScaler,StandardScaler\n",
    "from datetime import datetime\n",
    "from sklearn.metrics import confusion_matrix, accuracy_score,classification_report\n",
    "from sklearn.model_selection import train_test_split, cross_val_score\n",
    "from sklearn.feature_selection import VarianceThreshold\n",
    "from sklearn.ensemble import RandomForestClassifier, AdaBoostClassifier, GradientBoostingClassifier\n",
    "from sklearn.tree import DecisionTreeClassifier\n",
    "from sklearn import svm\n",
    "from sklearn.model_selection import GridSearchCV,RandomizedSearchCV\n",
    "from sklearn.neighbors import KNeighborsClassifier\n",
    "from sklearn.linear_model import LogisticRegression\n",
    "from sklearn import metrics\n",
    "from sklearn.neural_network import MLPClassifier\n",
    "import warnings\n",
    "warnings.filterwarnings('ignore')"
   ]
  },
  {
   "cell_type": "markdown",
   "metadata": {},
   "source": [
    "# Load Dataset"
   ]
  },
  {
   "cell_type": "code",
   "execution_count": 2232,
   "metadata": {},
   "outputs": [
    {
     "name": "stdout",
     "output_type": "stream",
     "text": [
      "(7759, 46)\n"
     ]
    },
    {
     "data": {
      "text/html": [
       "<div>\n",
       "<style scoped>\n",
       "    .dataframe tbody tr th:only-of-type {\n",
       "        vertical-align: middle;\n",
       "    }\n",
       "\n",
       "    .dataframe tbody tr th {\n",
       "        vertical-align: top;\n",
       "    }\n",
       "\n",
       "    .dataframe thead th {\n",
       "        text-align: right;\n",
       "    }\n",
       "</style>\n",
       "<table border=\"1\" class=\"dataframe\">\n",
       "  <thead>\n",
       "    <tr style=\"text-align: right;\">\n",
       "      <th></th>\n",
       "      <th>0</th>\n",
       "      <th>1</th>\n",
       "      <th>2</th>\n",
       "      <th>3</th>\n",
       "      <th>4</th>\n",
       "    </tr>\n",
       "  </thead>\n",
       "  <tbody>\n",
       "    <tr>\n",
       "      <th>APPLICATION.ID</th>\n",
       "      <td>27497000024</td>\n",
       "      <td>25556001005</td>\n",
       "      <td>27220000249</td>\n",
       "      <td>27067000029</td>\n",
       "      <td>26189000138</td>\n",
       "    </tr>\n",
       "    <tr>\n",
       "      <th>DSA.ID</th>\n",
       "      <td>JB02005</td>\n",
       "      <td>RD02622</td>\n",
       "      <td>SK02345</td>\n",
       "      <td>DN30900</td>\n",
       "      <td>JB02005</td>\n",
       "    </tr>\n",
       "    <tr>\n",
       "      <th>DEALER.ID</th>\n",
       "      <td>27497</td>\n",
       "      <td>25556</td>\n",
       "      <td>27220</td>\n",
       "      <td>27067</td>\n",
       "      <td>26189</td>\n",
       "    </tr>\n",
       "    <tr>\n",
       "      <th>APP.DATE</th>\n",
       "      <td>2017-02-28</td>\n",
       "      <td>2017-02-28</td>\n",
       "      <td>2017-02-28</td>\n",
       "      <td>2017-02-28</td>\n",
       "      <td>2017-02-28</td>\n",
       "    </tr>\n",
       "    <tr>\n",
       "      <th>TIME.STAMP</th>\n",
       "      <td>22:11:01</td>\n",
       "      <td>22:05:51</td>\n",
       "      <td>21:58:34</td>\n",
       "      <td>21:52:46</td>\n",
       "      <td>21:52:33</td>\n",
       "    </tr>\n",
       "    <tr>\n",
       "      <th>APPLICATION.STATUS</th>\n",
       "      <td>Declined</td>\n",
       "      <td>Approved</td>\n",
       "      <td>Approved</td>\n",
       "      <td>Declined</td>\n",
       "      <td>Approved</td>\n",
       "    </tr>\n",
       "    <tr>\n",
       "      <th>QUEUE.ID</th>\n",
       "      <td>Straight  Through Process</td>\n",
       "      <td>Straight  Through Process</td>\n",
       "      <td>Straight  Through Process</td>\n",
       "      <td>Under.Writer</td>\n",
       "      <td>Straight  Through Process</td>\n",
       "    </tr>\n",
       "    <tr>\n",
       "      <th>CURRENT.STAGE</th>\n",
       "      <td>PD_DE</td>\n",
       "      <td>PD_DE</td>\n",
       "      <td>PD_DE</td>\n",
       "      <td>DCLN</td>\n",
       "      <td>APRV</td>\n",
       "    </tr>\n",
       "    <tr>\n",
       "      <th>MARITAL.STATUS</th>\n",
       "      <td>Single</td>\n",
       "      <td>Married</td>\n",
       "      <td>Married</td>\n",
       "      <td>Married</td>\n",
       "      <td>Married</td>\n",
       "    </tr>\n",
       "    <tr>\n",
       "      <th>GENDER</th>\n",
       "      <td>Male</td>\n",
       "      <td>Male</td>\n",
       "      <td>Male</td>\n",
       "      <td>Male</td>\n",
       "      <td>Male</td>\n",
       "    </tr>\n",
       "    <tr>\n",
       "      <th>AGE</th>\n",
       "      <td>30</td>\n",
       "      <td>38</td>\n",
       "      <td>52</td>\n",
       "      <td>57</td>\n",
       "      <td>38</td>\n",
       "    </tr>\n",
       "    <tr>\n",
       "      <th>EDUCATION</th>\n",
       "      <td>GRADUATE</td>\n",
       "      <td>OTHERS</td>\n",
       "      <td>GRADUATE</td>\n",
       "      <td>GRADUATE</td>\n",
       "      <td>GRADUATE</td>\n",
       "    </tr>\n",
       "    <tr>\n",
       "      <th>RESIDENCE.TYPE</th>\n",
       "      <td>OWNED-BUNGLOW</td>\n",
       "      <td>PARENT OWNED-HOUSE</td>\n",
       "      <td>OWNED-ROWHOUSE</td>\n",
       "      <td>OWNED-BUNGLOW</td>\n",
       "      <td>OWNED-BUNGLOW</td>\n",
       "    </tr>\n",
       "    <tr>\n",
       "      <th>CITY</th>\n",
       "      <td>UDHANA</td>\n",
       "      <td>BHOPAL</td>\n",
       "      <td>RAIPUR</td>\n",
       "      <td>JAMNAGAR</td>\n",
       "      <td>UDHANA</td>\n",
       "    </tr>\n",
       "    <tr>\n",
       "      <th>STATE</th>\n",
       "      <td>GUJARAT</td>\n",
       "      <td>MADHYA PRADESH</td>\n",
       "      <td>CHHATTISGARH</td>\n",
       "      <td>GUJARAT</td>\n",
       "      <td>GUJARAT</td>\n",
       "    </tr>\n",
       "    <tr>\n",
       "      <th>ZIP.CODE</th>\n",
       "      <td>394210</td>\n",
       "      <td>462001</td>\n",
       "      <td>492001</td>\n",
       "      <td>361001</td>\n",
       "      <td>394210</td>\n",
       "    </tr>\n",
       "    <tr>\n",
       "      <th>EMPLOY.CONSTITUTION</th>\n",
       "      <td>SELF-EMPLOYED</td>\n",
       "      <td>SELF-EMPLOYED</td>\n",
       "      <td>SELF-EMPLOYED</td>\n",
       "      <td>SELF-EMPLOYED</td>\n",
       "      <td>SALARIED</td>\n",
       "    </tr>\n",
       "    <tr>\n",
       "      <th>NET.TAKE.HOME.SALARY</th>\n",
       "      <td>NaN</td>\n",
       "      <td>NaN</td>\n",
       "      <td>NaN</td>\n",
       "      <td>NaN</td>\n",
       "      <td>NaN</td>\n",
       "    </tr>\n",
       "    <tr>\n",
       "      <th>PAN.STATUS</th>\n",
       "      <td>Pan Not Submitted</td>\n",
       "      <td>Pan Not Submitted</td>\n",
       "      <td>Pan Not Submitted</td>\n",
       "      <td>Pan Not Submitted</td>\n",
       "      <td>ERROR</td>\n",
       "    </tr>\n",
       "    <tr>\n",
       "      <th>CIBIL.SCORE</th>\n",
       "      <td>734</td>\n",
       "      <td>840</td>\n",
       "      <td>863</td>\n",
       "      <td>000-1</td>\n",
       "      <td>797</td>\n",
       "    </tr>\n",
       "    <tr>\n",
       "      <th>APPLICATION.SCORE</th>\n",
       "      <td>69</td>\n",
       "      <td>108</td>\n",
       "      <td>143</td>\n",
       "      <td>60</td>\n",
       "      <td>62</td>\n",
       "    </tr>\n",
       "    <tr>\n",
       "      <th>RESIDENTIAL.ADDRESS.SCORE</th>\n",
       "      <td>86.5</td>\n",
       "      <td>78.63</td>\n",
       "      <td>73.86</td>\n",
       "      <td>80.67</td>\n",
       "      <td>82.95</td>\n",
       "    </tr>\n",
       "    <tr>\n",
       "      <th>OFFICE.ADDRESS.SCORE</th>\n",
       "      <td>90.8</td>\n",
       "      <td>81.72</td>\n",
       "      <td>71.11</td>\n",
       "      <td>55.91</td>\n",
       "      <td>69.51</td>\n",
       "    </tr>\n",
       "    <tr>\n",
       "      <th>NAME.SCORE</th>\n",
       "      <td>NaN</td>\n",
       "      <td>NaN</td>\n",
       "      <td>NaN</td>\n",
       "      <td>NaN</td>\n",
       "      <td>NaN</td>\n",
       "    </tr>\n",
       "    <tr>\n",
       "      <th>APPROVED.AMOUNT</th>\n",
       "      <td>NaN</td>\n",
       "      <td>47000</td>\n",
       "      <td>30000</td>\n",
       "      <td>NaN</td>\n",
       "      <td>NaN</td>\n",
       "    </tr>\n",
       "    <tr>\n",
       "      <th>ASSET.MAKE</th>\n",
       "      <td>NaN</td>\n",
       "      <td>SONY</td>\n",
       "      <td>ELECTROLUX</td>\n",
       "      <td>NaN</td>\n",
       "      <td>NaN</td>\n",
       "    </tr>\n",
       "    <tr>\n",
       "      <th>ASSET.CTG</th>\n",
       "      <td>NaN</td>\n",
       "      <td>TELEVISION</td>\n",
       "      <td>SPLIT AC</td>\n",
       "      <td>NaN</td>\n",
       "      <td>NaN</td>\n",
       "    </tr>\n",
       "    <tr>\n",
       "      <th>APPLIED.AMOUNT</th>\n",
       "      <td>28000</td>\n",
       "      <td>47000</td>\n",
       "      <td>30000</td>\n",
       "      <td>49000</td>\n",
       "      <td>45000</td>\n",
       "    </tr>\n",
       "    <tr>\n",
       "      <th>LOAN.TENOR</th>\n",
       "      <td>10</td>\n",
       "      <td>12</td>\n",
       "      <td>12</td>\n",
       "      <td>12</td>\n",
       "      <td>10</td>\n",
       "    </tr>\n",
       "    <tr>\n",
       "      <th>LOAN.TYPE</th>\n",
       "      <td>Consumer Durables</td>\n",
       "      <td>Consumer Durables</td>\n",
       "      <td>Consumer Durables</td>\n",
       "      <td>Consumer Durables</td>\n",
       "      <td>Consumer Durables</td>\n",
       "    </tr>\n",
       "    <tr>\n",
       "      <th>DEDUPE.REF.ID1</th>\n",
       "      <td>NaN</td>\n",
       "      <td>NaN</td>\n",
       "      <td>NaN</td>\n",
       "      <td>NaN</td>\n",
       "      <td>NaN</td>\n",
       "    </tr>\n",
       "    <tr>\n",
       "      <th>CAR.CATEGORY</th>\n",
       "      <td>NaN</td>\n",
       "      <td>NaN</td>\n",
       "      <td>NaN</td>\n",
       "      <td>NaN</td>\n",
       "      <td>NaN</td>\n",
       "    </tr>\n",
       "    <tr>\n",
       "      <th>OWN.HOUSE.TYPE</th>\n",
       "      <td>NaN</td>\n",
       "      <td>Parent Owned</td>\n",
       "      <td>Self Owned</td>\n",
       "      <td>Self Owned</td>\n",
       "      <td>Self Owned</td>\n",
       "    </tr>\n",
       "    <tr>\n",
       "      <th>HOUSE.SURROGATE.DOCUMENT.TYPE</th>\n",
       "      <td>NaN</td>\n",
       "      <td>Utility Bill</td>\n",
       "      <td>Utility Bill</td>\n",
       "      <td>Utility Bill</td>\n",
       "      <td>Utility Bill</td>\n",
       "    </tr>\n",
       "    <tr>\n",
       "      <th>TRADER.YEAR.IN.BUSINESS</th>\n",
       "      <td>NaN</td>\n",
       "      <td>NaN</td>\n",
       "      <td>NaN</td>\n",
       "      <td>NaN</td>\n",
       "      <td>NaN</td>\n",
       "    </tr>\n",
       "    <tr>\n",
       "      <th>TRADER.BUSINESS.PROOF</th>\n",
       "      <td>NaN</td>\n",
       "      <td>NaN</td>\n",
       "      <td>NaN</td>\n",
       "      <td>NaN</td>\n",
       "      <td>NaN</td>\n",
       "    </tr>\n",
       "    <tr>\n",
       "      <th>CREDIT.CARD.NUMBER</th>\n",
       "      <td>NaN</td>\n",
       "      <td>NaN</td>\n",
       "      <td>NaN</td>\n",
       "      <td>NaN</td>\n",
       "      <td>NaN</td>\n",
       "    </tr>\n",
       "    <tr>\n",
       "      <th>CREDIT.CARDS.CATEGORY</th>\n",
       "      <td>NaN</td>\n",
       "      <td>NaN</td>\n",
       "      <td>NaN</td>\n",
       "      <td>NaN</td>\n",
       "      <td>NaN</td>\n",
       "    </tr>\n",
       "    <tr>\n",
       "      <th>PRIMARY.ASSET.CTG</th>\n",
       "      <td>REF-FF HOME</td>\n",
       "      <td>TELEVISION</td>\n",
       "      <td>AIR CONDITIONER</td>\n",
       "      <td>HOME THEATRE</td>\n",
       "      <td>SPLIT AC</td>\n",
       "    </tr>\n",
       "    <tr>\n",
       "      <th>PRIMARY.ASSET.MAKE</th>\n",
       "      <td>SAMSUNG</td>\n",
       "      <td>SONY</td>\n",
       "      <td>ELECTROLUX</td>\n",
       "      <td>TARGET</td>\n",
       "      <td>ELECTROLUX</td>\n",
       "    </tr>\n",
       "    <tr>\n",
       "      <th>PRIMARY.ASSET.MODELNO</th>\n",
       "      <td>RT30K3723S8/HL</td>\n",
       "      <td>KLV-29P423D</td>\n",
       "      <td>AIR CONDITIONER VANILLA</td>\n",
       "      <td>K1110 FM</td>\n",
       "      <td>ES18T5C</td>\n",
       "    </tr>\n",
       "    <tr>\n",
       "      <th>VOTER_ID</th>\n",
       "      <td>F</td>\n",
       "      <td>F</td>\n",
       "      <td>F</td>\n",
       "      <td>F</td>\n",
       "      <td>F</td>\n",
       "    </tr>\n",
       "    <tr>\n",
       "      <th>DRIVING_LICENSE</th>\n",
       "      <td>F</td>\n",
       "      <td>T</td>\n",
       "      <td>T</td>\n",
       "      <td>F</td>\n",
       "      <td>F</td>\n",
       "    </tr>\n",
       "    <tr>\n",
       "      <th>AADHAAR</th>\n",
       "      <td>T</td>\n",
       "      <td>F</td>\n",
       "      <td>F</td>\n",
       "      <td>T</td>\n",
       "      <td>F</td>\n",
       "    </tr>\n",
       "    <tr>\n",
       "      <th>PAN</th>\n",
       "      <td>F</td>\n",
       "      <td>F</td>\n",
       "      <td>F</td>\n",
       "      <td>F</td>\n",
       "      <td>T</td>\n",
       "    </tr>\n",
       "    <tr>\n",
       "      <th>BANK_PASSBOOK</th>\n",
       "      <td>F</td>\n",
       "      <td>F</td>\n",
       "      <td>F</td>\n",
       "      <td>F</td>\n",
       "      <td>F</td>\n",
       "    </tr>\n",
       "  </tbody>\n",
       "</table>\n",
       "</div>"
      ],
      "text/plain": [
       "                                                       0  \\\n",
       "APPLICATION.ID                               27497000024   \n",
       "DSA.ID                                           JB02005   \n",
       "DEALER.ID                                          27497   \n",
       "APP.DATE                                      2017-02-28   \n",
       "TIME.STAMP                                      22:11:01   \n",
       "APPLICATION.STATUS                              Declined   \n",
       "QUEUE.ID                       Straight  Through Process   \n",
       "CURRENT.STAGE                                      PD_DE   \n",
       "MARITAL.STATUS                                    Single   \n",
       "GENDER                                              Male   \n",
       "AGE                                                   30   \n",
       "EDUCATION                                       GRADUATE   \n",
       "RESIDENCE.TYPE                             OWNED-BUNGLOW   \n",
       "CITY                                              UDHANA   \n",
       "STATE                                            GUJARAT   \n",
       "ZIP.CODE                                          394210   \n",
       "EMPLOY.CONSTITUTION                        SELF-EMPLOYED   \n",
       "NET.TAKE.HOME.SALARY                                 NaN   \n",
       "PAN.STATUS                             Pan Not Submitted   \n",
       "CIBIL.SCORE                                          734   \n",
       "APPLICATION.SCORE                                     69   \n",
       "RESIDENTIAL.ADDRESS.SCORE                           86.5   \n",
       "OFFICE.ADDRESS.SCORE                                90.8   \n",
       "NAME.SCORE                                           NaN   \n",
       "APPROVED.AMOUNT                                      NaN   \n",
       "ASSET.MAKE                                           NaN   \n",
       "ASSET.CTG                                            NaN   \n",
       "APPLIED.AMOUNT                                     28000   \n",
       "LOAN.TENOR                                            10   \n",
       "LOAN.TYPE                              Consumer Durables   \n",
       "DEDUPE.REF.ID1                                       NaN   \n",
       "CAR.CATEGORY                                         NaN   \n",
       "OWN.HOUSE.TYPE                                       NaN   \n",
       "HOUSE.SURROGATE.DOCUMENT.TYPE                        NaN   \n",
       "TRADER.YEAR.IN.BUSINESS                              NaN   \n",
       "TRADER.BUSINESS.PROOF                                NaN   \n",
       "CREDIT.CARD.NUMBER                                   NaN   \n",
       "CREDIT.CARDS.CATEGORY                                NaN   \n",
       "PRIMARY.ASSET.CTG                            REF-FF HOME   \n",
       "PRIMARY.ASSET.MAKE                               SAMSUNG   \n",
       "PRIMARY.ASSET.MODELNO                     RT30K3723S8/HL   \n",
       "VOTER_ID                                               F   \n",
       "DRIVING_LICENSE                                        F   \n",
       "AADHAAR                                                T   \n",
       "PAN                                                    F   \n",
       "BANK_PASSBOOK                                          F   \n",
       "\n",
       "                                                       1  \\\n",
       "APPLICATION.ID                               25556001005   \n",
       "DSA.ID                                           RD02622   \n",
       "DEALER.ID                                          25556   \n",
       "APP.DATE                                      2017-02-28   \n",
       "TIME.STAMP                                      22:05:51   \n",
       "APPLICATION.STATUS                              Approved   \n",
       "QUEUE.ID                       Straight  Through Process   \n",
       "CURRENT.STAGE                                      PD_DE   \n",
       "MARITAL.STATUS                                   Married   \n",
       "GENDER                                              Male   \n",
       "AGE                                                   38   \n",
       "EDUCATION                                         OTHERS   \n",
       "RESIDENCE.TYPE                        PARENT OWNED-HOUSE   \n",
       "CITY                                              BHOPAL   \n",
       "STATE                                     MADHYA PRADESH   \n",
       "ZIP.CODE                                          462001   \n",
       "EMPLOY.CONSTITUTION                        SELF-EMPLOYED   \n",
       "NET.TAKE.HOME.SALARY                                 NaN   \n",
       "PAN.STATUS                             Pan Not Submitted   \n",
       "CIBIL.SCORE                                          840   \n",
       "APPLICATION.SCORE                                    108   \n",
       "RESIDENTIAL.ADDRESS.SCORE                          78.63   \n",
       "OFFICE.ADDRESS.SCORE                               81.72   \n",
       "NAME.SCORE                                           NaN   \n",
       "APPROVED.AMOUNT                                    47000   \n",
       "ASSET.MAKE                                          SONY   \n",
       "ASSET.CTG                                     TELEVISION   \n",
       "APPLIED.AMOUNT                                     47000   \n",
       "LOAN.TENOR                                            12   \n",
       "LOAN.TYPE                              Consumer Durables   \n",
       "DEDUPE.REF.ID1                                       NaN   \n",
       "CAR.CATEGORY                                         NaN   \n",
       "OWN.HOUSE.TYPE                              Parent Owned   \n",
       "HOUSE.SURROGATE.DOCUMENT.TYPE               Utility Bill   \n",
       "TRADER.YEAR.IN.BUSINESS                              NaN   \n",
       "TRADER.BUSINESS.PROOF                                NaN   \n",
       "CREDIT.CARD.NUMBER                                   NaN   \n",
       "CREDIT.CARDS.CATEGORY                                NaN   \n",
       "PRIMARY.ASSET.CTG                             TELEVISION   \n",
       "PRIMARY.ASSET.MAKE                                  SONY   \n",
       "PRIMARY.ASSET.MODELNO                        KLV-29P423D   \n",
       "VOTER_ID                                               F   \n",
       "DRIVING_LICENSE                                        T   \n",
       "AADHAAR                                                F   \n",
       "PAN                                                    F   \n",
       "BANK_PASSBOOK                                          F   \n",
       "\n",
       "                                                       2                  3  \\\n",
       "APPLICATION.ID                               27220000249        27067000029   \n",
       "DSA.ID                                           SK02345            DN30900   \n",
       "DEALER.ID                                          27220              27067   \n",
       "APP.DATE                                      2017-02-28         2017-02-28   \n",
       "TIME.STAMP                                      21:58:34           21:52:46   \n",
       "APPLICATION.STATUS                              Approved           Declined   \n",
       "QUEUE.ID                       Straight  Through Process       Under.Writer   \n",
       "CURRENT.STAGE                                      PD_DE               DCLN   \n",
       "MARITAL.STATUS                                   Married            Married   \n",
       "GENDER                                              Male               Male   \n",
       "AGE                                                   52                 57   \n",
       "EDUCATION                                       GRADUATE           GRADUATE   \n",
       "RESIDENCE.TYPE                            OWNED-ROWHOUSE      OWNED-BUNGLOW   \n",
       "CITY                                              RAIPUR           JAMNAGAR   \n",
       "STATE                                       CHHATTISGARH            GUJARAT   \n",
       "ZIP.CODE                                          492001             361001   \n",
       "EMPLOY.CONSTITUTION                        SELF-EMPLOYED      SELF-EMPLOYED   \n",
       "NET.TAKE.HOME.SALARY                                 NaN                NaN   \n",
       "PAN.STATUS                             Pan Not Submitted  Pan Not Submitted   \n",
       "CIBIL.SCORE                                          863              000-1   \n",
       "APPLICATION.SCORE                                    143                 60   \n",
       "RESIDENTIAL.ADDRESS.SCORE                          73.86              80.67   \n",
       "OFFICE.ADDRESS.SCORE                               71.11              55.91   \n",
       "NAME.SCORE                                           NaN                NaN   \n",
       "APPROVED.AMOUNT                                    30000                NaN   \n",
       "ASSET.MAKE                                    ELECTROLUX                NaN   \n",
       "ASSET.CTG                                       SPLIT AC                NaN   \n",
       "APPLIED.AMOUNT                                     30000              49000   \n",
       "LOAN.TENOR                                            12                 12   \n",
       "LOAN.TYPE                              Consumer Durables  Consumer Durables   \n",
       "DEDUPE.REF.ID1                                       NaN                NaN   \n",
       "CAR.CATEGORY                                         NaN                NaN   \n",
       "OWN.HOUSE.TYPE                                Self Owned         Self Owned   \n",
       "HOUSE.SURROGATE.DOCUMENT.TYPE               Utility Bill       Utility Bill   \n",
       "TRADER.YEAR.IN.BUSINESS                              NaN                NaN   \n",
       "TRADER.BUSINESS.PROOF                                NaN                NaN   \n",
       "CREDIT.CARD.NUMBER                                   NaN                NaN   \n",
       "CREDIT.CARDS.CATEGORY                                NaN                NaN   \n",
       "PRIMARY.ASSET.CTG                        AIR CONDITIONER       HOME THEATRE   \n",
       "PRIMARY.ASSET.MAKE                            ELECTROLUX             TARGET   \n",
       "PRIMARY.ASSET.MODELNO            AIR CONDITIONER VANILLA           K1110 FM   \n",
       "VOTER_ID                                               F                  F   \n",
       "DRIVING_LICENSE                                        T                  F   \n",
       "AADHAAR                                                F                  T   \n",
       "PAN                                                    F                  F   \n",
       "BANK_PASSBOOK                                          F                  F   \n",
       "\n",
       "                                                       4  \n",
       "APPLICATION.ID                               26189000138  \n",
       "DSA.ID                                           JB02005  \n",
       "DEALER.ID                                          26189  \n",
       "APP.DATE                                      2017-02-28  \n",
       "TIME.STAMP                                      21:52:33  \n",
       "APPLICATION.STATUS                              Approved  \n",
       "QUEUE.ID                       Straight  Through Process  \n",
       "CURRENT.STAGE                                       APRV  \n",
       "MARITAL.STATUS                                   Married  \n",
       "GENDER                                              Male  \n",
       "AGE                                                   38  \n",
       "EDUCATION                                       GRADUATE  \n",
       "RESIDENCE.TYPE                             OWNED-BUNGLOW  \n",
       "CITY                                              UDHANA  \n",
       "STATE                                            GUJARAT  \n",
       "ZIP.CODE                                          394210  \n",
       "EMPLOY.CONSTITUTION                             SALARIED  \n",
       "NET.TAKE.HOME.SALARY                                 NaN  \n",
       "PAN.STATUS                                         ERROR  \n",
       "CIBIL.SCORE                                          797  \n",
       "APPLICATION.SCORE                                     62  \n",
       "RESIDENTIAL.ADDRESS.SCORE                          82.95  \n",
       "OFFICE.ADDRESS.SCORE                               69.51  \n",
       "NAME.SCORE                                           NaN  \n",
       "APPROVED.AMOUNT                                      NaN  \n",
       "ASSET.MAKE                                           NaN  \n",
       "ASSET.CTG                                            NaN  \n",
       "APPLIED.AMOUNT                                     45000  \n",
       "LOAN.TENOR                                            10  \n",
       "LOAN.TYPE                              Consumer Durables  \n",
       "DEDUPE.REF.ID1                                       NaN  \n",
       "CAR.CATEGORY                                         NaN  \n",
       "OWN.HOUSE.TYPE                                Self Owned  \n",
       "HOUSE.SURROGATE.DOCUMENT.TYPE               Utility Bill  \n",
       "TRADER.YEAR.IN.BUSINESS                              NaN  \n",
       "TRADER.BUSINESS.PROOF                                NaN  \n",
       "CREDIT.CARD.NUMBER                                   NaN  \n",
       "CREDIT.CARDS.CATEGORY                                NaN  \n",
       "PRIMARY.ASSET.CTG                               SPLIT AC  \n",
       "PRIMARY.ASSET.MAKE                            ELECTROLUX  \n",
       "PRIMARY.ASSET.MODELNO                            ES18T5C  \n",
       "VOTER_ID                                               F  \n",
       "DRIVING_LICENSE                                        F  \n",
       "AADHAAR                                                F  \n",
       "PAN                                                    T  \n",
       "BANK_PASSBOOK                                          F  "
      ]
     },
     "execution_count": 2232,
     "metadata": {},
     "output_type": "execute_result"
    }
   ],
   "source": [
    "df = pd.read_csv('dataset/Lending_TRAINING_DATA.csv')\n",
    "print(df.shape)\n",
    "df.head().T"
   ]
  },
  {
   "cell_type": "code",
   "execution_count": 2233,
   "metadata": {},
   "outputs": [
    {
     "name": "stdout",
     "output_type": "stream",
     "text": [
      "Categorical Features:\n",
      " Index(['DSA.ID', 'APP.DATE', 'TIME.STAMP', 'APPLICATION.STATUS', 'QUEUE.ID',\n",
      "       'CURRENT.STAGE', 'MARITAL.STATUS', 'GENDER', 'EDUCATION',\n",
      "       'RESIDENCE.TYPE', 'CITY', 'STATE', 'EMPLOY.CONSTITUTION', 'PAN.STATUS',\n",
      "       'CIBIL.SCORE', 'APPLICATION.SCORE', 'ASSET.MAKE', 'ASSET.CTG',\n",
      "       'LOAN.TYPE', 'CAR.CATEGORY', 'OWN.HOUSE.TYPE',\n",
      "       'HOUSE.SURROGATE.DOCUMENT.TYPE', 'TRADER.BUSINESS.PROOF',\n",
      "       'CREDIT.CARDS.CATEGORY', 'PRIMARY.ASSET.CTG', 'PRIMARY.ASSET.MAKE',\n",
      "       'PRIMARY.ASSET.MODELNO', 'VOTER_ID', 'DRIVING_LICENSE', 'AADHAAR',\n",
      "       'PAN', 'BANK_PASSBOOK'],\n",
      "      dtype='object') \n",
      " No of categorical features: 32\n",
      "Numerical Features:\n",
      " Index(['APPLICATION.ID', 'DEALER.ID', 'AGE', 'ZIP.CODE',\n",
      "       'NET.TAKE.HOME.SALARY', 'RESIDENTIAL.ADDRESS.SCORE',\n",
      "       'OFFICE.ADDRESS.SCORE', 'NAME.SCORE', 'APPROVED.AMOUNT',\n",
      "       'APPLIED.AMOUNT', 'LOAN.TENOR', 'DEDUPE.REF.ID1',\n",
      "       'TRADER.YEAR.IN.BUSINESS', 'CREDIT.CARD.NUMBER'],\n",
      "      dtype='object') \n",
      " No of numerical features: 14\n"
     ]
    }
   ],
   "source": [
    "#Categorical Features\n",
    "cat_features=df.select_dtypes(include='object').columns\n",
    "print(\"Categorical Features:\\n\",cat_features,\"\\n No of categorical features:\",len(cat_features))\n",
    "\n",
    "#Numerical Features\n",
    "num_features=df.select_dtypes(exclude='object').columns\n",
    "print(\"Numerical Features:\\n\",num_features,\"\\n No of numerical features:\",len(num_features))"
   ]
  },
  {
   "cell_type": "markdown",
   "metadata": {},
   "source": [
    "# Preprocessing of Data"
   ]
  },
  {
   "cell_type": "code",
   "execution_count": 2234,
   "metadata": {},
   "outputs": [
    {
     "data": {
      "text/html": [
       "<div>\n",
       "<style scoped>\n",
       "    .dataframe tbody tr th:only-of-type {\n",
       "        vertical-align: middle;\n",
       "    }\n",
       "\n",
       "    .dataframe tbody tr th {\n",
       "        vertical-align: top;\n",
       "    }\n",
       "\n",
       "    .dataframe thead th {\n",
       "        text-align: right;\n",
       "    }\n",
       "</style>\n",
       "<table border=\"1\" class=\"dataframe\">\n",
       "  <thead>\n",
       "    <tr style=\"text-align: right;\">\n",
       "      <th></th>\n",
       "      <th>count</th>\n",
       "      <th>mean</th>\n",
       "      <th>std</th>\n",
       "      <th>min</th>\n",
       "      <th>25%</th>\n",
       "      <th>50%</th>\n",
       "      <th>75%</th>\n",
       "      <th>max</th>\n",
       "    </tr>\n",
       "  </thead>\n",
       "  <tbody>\n",
       "    <tr>\n",
       "      <th>APPLICATION.ID</th>\n",
       "      <td>7759.0</td>\n",
       "      <td>2.653510e+10</td>\n",
       "      <td>1.001756e+09</td>\n",
       "      <td>2.505000e+10</td>\n",
       "      <td>2.564550e+10</td>\n",
       "      <td>2.638500e+10</td>\n",
       "      <td>2.749400e+10</td>\n",
       "      <td>2.877500e+10</td>\n",
       "    </tr>\n",
       "    <tr>\n",
       "      <th>DEALER.ID</th>\n",
       "      <td>7759.0</td>\n",
       "      <td>2.653510e+04</td>\n",
       "      <td>1.001757e+03</td>\n",
       "      <td>2.505000e+04</td>\n",
       "      <td>2.564550e+04</td>\n",
       "      <td>2.638500e+04</td>\n",
       "      <td>2.749400e+04</td>\n",
       "      <td>2.877500e+04</td>\n",
       "    </tr>\n",
       "    <tr>\n",
       "      <th>AGE</th>\n",
       "      <td>7759.0</td>\n",
       "      <td>3.569326e+01</td>\n",
       "      <td>9.391776e+00</td>\n",
       "      <td>1.200000e+01</td>\n",
       "      <td>2.800000e+01</td>\n",
       "      <td>3.400000e+01</td>\n",
       "      <td>4.200000e+01</td>\n",
       "      <td>6.700000e+01</td>\n",
       "    </tr>\n",
       "    <tr>\n",
       "      <th>ZIP.CODE</th>\n",
       "      <td>7759.0</td>\n",
       "      <td>5.201910e+05</td>\n",
       "      <td>1.344991e+05</td>\n",
       "      <td>1.100020e+05</td>\n",
       "      <td>4.520010e+05</td>\n",
       "      <td>5.200120e+05</td>\n",
       "      <td>6.250160e+05</td>\n",
       "      <td>8.433250e+05</td>\n",
       "    </tr>\n",
       "    <tr>\n",
       "      <th>NET.TAKE.HOME.SALARY</th>\n",
       "      <td>603.0</td>\n",
       "      <td>3.010201e+04</td>\n",
       "      <td>5.272895e+04</td>\n",
       "      <td>1.010000e+04</td>\n",
       "      <td>1.500000e+04</td>\n",
       "      <td>2.000000e+04</td>\n",
       "      <td>2.934500e+04</td>\n",
       "      <td>9.360000e+05</td>\n",
       "    </tr>\n",
       "    <tr>\n",
       "      <th>RESIDENTIAL.ADDRESS.SCORE</th>\n",
       "      <td>6135.0</td>\n",
       "      <td>6.194182e+01</td>\n",
       "      <td>3.185152e+01</td>\n",
       "      <td>0.000000e+00</td>\n",
       "      <td>5.877000e+01</td>\n",
       "      <td>7.434000e+01</td>\n",
       "      <td>8.301000e+01</td>\n",
       "      <td>1.000000e+02</td>\n",
       "    </tr>\n",
       "    <tr>\n",
       "      <th>OFFICE.ADDRESS.SCORE</th>\n",
       "      <td>6136.0</td>\n",
       "      <td>4.286547e+01</td>\n",
       "      <td>3.511225e+01</td>\n",
       "      <td>0.000000e+00</td>\n",
       "      <td>0.000000e+00</td>\n",
       "      <td>5.820500e+01</td>\n",
       "      <td>7.274250e+01</td>\n",
       "      <td>1.000000e+02</td>\n",
       "    </tr>\n",
       "    <tr>\n",
       "      <th>NAME.SCORE</th>\n",
       "      <td>2387.0</td>\n",
       "      <td>7.722744e+01</td>\n",
       "      <td>1.146160e+01</td>\n",
       "      <td>3.529000e+01</td>\n",
       "      <td>7.037000e+01</td>\n",
       "      <td>7.826000e+01</td>\n",
       "      <td>8.571000e+01</td>\n",
       "      <td>1.000000e+02</td>\n",
       "    </tr>\n",
       "    <tr>\n",
       "      <th>APPROVED.AMOUNT</th>\n",
       "      <td>3338.0</td>\n",
       "      <td>3.232197e+04</td>\n",
       "      <td>1.522981e+04</td>\n",
       "      <td>7.001000e+03</td>\n",
       "      <td>2.000000e+04</td>\n",
       "      <td>3.000000e+04</td>\n",
       "      <td>4.000000e+04</td>\n",
       "      <td>3.000000e+05</td>\n",
       "    </tr>\n",
       "    <tr>\n",
       "      <th>APPLIED.AMOUNT</th>\n",
       "      <td>7759.0</td>\n",
       "      <td>3.421163e+04</td>\n",
       "      <td>1.895216e+04</td>\n",
       "      <td>1.000000e+01</td>\n",
       "      <td>2.100000e+04</td>\n",
       "      <td>3.000000e+04</td>\n",
       "      <td>4.387000e+04</td>\n",
       "      <td>8.000000e+05</td>\n",
       "    </tr>\n",
       "    <tr>\n",
       "      <th>LOAN.TENOR</th>\n",
       "      <td>7759.0</td>\n",
       "      <td>1.312966e+01</td>\n",
       "      <td>1.268212e+01</td>\n",
       "      <td>0.000000e+00</td>\n",
       "      <td>1.000000e+01</td>\n",
       "      <td>1.200000e+01</td>\n",
       "      <td>1.200000e+01</td>\n",
       "      <td>3.600000e+02</td>\n",
       "    </tr>\n",
       "    <tr>\n",
       "      <th>DEDUPE.REF.ID1</th>\n",
       "      <td>19.0</td>\n",
       "      <td>2.617679e+10</td>\n",
       "      <td>9.784886e+08</td>\n",
       "      <td>2.515700e+10</td>\n",
       "      <td>2.540900e+10</td>\n",
       "      <td>2.601900e+10</td>\n",
       "      <td>2.650700e+10</td>\n",
       "      <td>2.858900e+10</td>\n",
       "    </tr>\n",
       "    <tr>\n",
       "      <th>TRADER.YEAR.IN.BUSINESS</th>\n",
       "      <td>98.0</td>\n",
       "      <td>2.479592e+01</td>\n",
       "      <td>4.331876e+01</td>\n",
       "      <td>3.000000e+00</td>\n",
       "      <td>3.000000e+00</td>\n",
       "      <td>6.000000e+00</td>\n",
       "      <td>2.000000e+01</td>\n",
       "      <td>2.400000e+02</td>\n",
       "    </tr>\n",
       "    <tr>\n",
       "      <th>CREDIT.CARD.NUMBER</th>\n",
       "      <td>360.0</td>\n",
       "      <td>4.828754e+05</td>\n",
       "      <td>4.183696e+04</td>\n",
       "      <td>4.111460e+05</td>\n",
       "      <td>4.386280e+05</td>\n",
       "      <td>4.726420e+05</td>\n",
       "      <td>5.241810e+05</td>\n",
       "      <td>5.548370e+05</td>\n",
       "    </tr>\n",
       "  </tbody>\n",
       "</table>\n",
       "</div>"
      ],
      "text/plain": [
       "                            count          mean           std           min  \\\n",
       "APPLICATION.ID             7759.0  2.653510e+10  1.001756e+09  2.505000e+10   \n",
       "DEALER.ID                  7759.0  2.653510e+04  1.001757e+03  2.505000e+04   \n",
       "AGE                        7759.0  3.569326e+01  9.391776e+00  1.200000e+01   \n",
       "ZIP.CODE                   7759.0  5.201910e+05  1.344991e+05  1.100020e+05   \n",
       "NET.TAKE.HOME.SALARY        603.0  3.010201e+04  5.272895e+04  1.010000e+04   \n",
       "RESIDENTIAL.ADDRESS.SCORE  6135.0  6.194182e+01  3.185152e+01  0.000000e+00   \n",
       "OFFICE.ADDRESS.SCORE       6136.0  4.286547e+01  3.511225e+01  0.000000e+00   \n",
       "NAME.SCORE                 2387.0  7.722744e+01  1.146160e+01  3.529000e+01   \n",
       "APPROVED.AMOUNT            3338.0  3.232197e+04  1.522981e+04  7.001000e+03   \n",
       "APPLIED.AMOUNT             7759.0  3.421163e+04  1.895216e+04  1.000000e+01   \n",
       "LOAN.TENOR                 7759.0  1.312966e+01  1.268212e+01  0.000000e+00   \n",
       "DEDUPE.REF.ID1               19.0  2.617679e+10  9.784886e+08  2.515700e+10   \n",
       "TRADER.YEAR.IN.BUSINESS      98.0  2.479592e+01  4.331876e+01  3.000000e+00   \n",
       "CREDIT.CARD.NUMBER          360.0  4.828754e+05  4.183696e+04  4.111460e+05   \n",
       "\n",
       "                                    25%           50%           75%  \\\n",
       "APPLICATION.ID             2.564550e+10  2.638500e+10  2.749400e+10   \n",
       "DEALER.ID                  2.564550e+04  2.638500e+04  2.749400e+04   \n",
       "AGE                        2.800000e+01  3.400000e+01  4.200000e+01   \n",
       "ZIP.CODE                   4.520010e+05  5.200120e+05  6.250160e+05   \n",
       "NET.TAKE.HOME.SALARY       1.500000e+04  2.000000e+04  2.934500e+04   \n",
       "RESIDENTIAL.ADDRESS.SCORE  5.877000e+01  7.434000e+01  8.301000e+01   \n",
       "OFFICE.ADDRESS.SCORE       0.000000e+00  5.820500e+01  7.274250e+01   \n",
       "NAME.SCORE                 7.037000e+01  7.826000e+01  8.571000e+01   \n",
       "APPROVED.AMOUNT            2.000000e+04  3.000000e+04  4.000000e+04   \n",
       "APPLIED.AMOUNT             2.100000e+04  3.000000e+04  4.387000e+04   \n",
       "LOAN.TENOR                 1.000000e+01  1.200000e+01  1.200000e+01   \n",
       "DEDUPE.REF.ID1             2.540900e+10  2.601900e+10  2.650700e+10   \n",
       "TRADER.YEAR.IN.BUSINESS    3.000000e+00  6.000000e+00  2.000000e+01   \n",
       "CREDIT.CARD.NUMBER         4.386280e+05  4.726420e+05  5.241810e+05   \n",
       "\n",
       "                                    max  \n",
       "APPLICATION.ID             2.877500e+10  \n",
       "DEALER.ID                  2.877500e+04  \n",
       "AGE                        6.700000e+01  \n",
       "ZIP.CODE                   8.433250e+05  \n",
       "NET.TAKE.HOME.SALARY       9.360000e+05  \n",
       "RESIDENTIAL.ADDRESS.SCORE  1.000000e+02  \n",
       "OFFICE.ADDRESS.SCORE       1.000000e+02  \n",
       "NAME.SCORE                 1.000000e+02  \n",
       "APPROVED.AMOUNT            3.000000e+05  \n",
       "APPLIED.AMOUNT             8.000000e+05  \n",
       "LOAN.TENOR                 3.600000e+02  \n",
       "DEDUPE.REF.ID1             2.858900e+10  \n",
       "TRADER.YEAR.IN.BUSINESS    2.400000e+02  \n",
       "CREDIT.CARD.NUMBER         5.548370e+05  "
      ]
     },
     "execution_count": 2234,
     "metadata": {},
     "output_type": "execute_result"
    }
   ],
   "source": [
    "# Statistics for numerical attributes\n",
    "df.describe().T "
   ]
  },
  {
   "cell_type": "code",
   "execution_count": 2235,
   "metadata": {},
   "outputs": [
    {
     "name": "stdout",
     "output_type": "stream",
     "text": [
      "<class 'pandas.core.frame.DataFrame'>\n",
      "RangeIndex: 7759 entries, 0 to 7758\n",
      "Data columns (total 46 columns):\n",
      " #   Column                         Non-Null Count  Dtype  \n",
      "---  ------                         --------------  -----  \n",
      " 0   APPLICATION.ID                 7759 non-null   int64  \n",
      " 1   DSA.ID                         7759 non-null   object \n",
      " 2   DEALER.ID                      7759 non-null   int64  \n",
      " 3   APP.DATE                       7759 non-null   object \n",
      " 4   TIME.STAMP                     7759 non-null   object \n",
      " 5   APPLICATION.STATUS             7759 non-null   object \n",
      " 6   QUEUE.ID                       7759 non-null   object \n",
      " 7   CURRENT.STAGE                  7759 non-null   object \n",
      " 8   MARITAL.STATUS                 7759 non-null   object \n",
      " 9   GENDER                         7759 non-null   object \n",
      " 10  AGE                            7759 non-null   int64  \n",
      " 11  EDUCATION                      7759 non-null   object \n",
      " 12  RESIDENCE.TYPE                 7759 non-null   object \n",
      " 13  CITY                           7759 non-null   object \n",
      " 14  STATE                          7759 non-null   object \n",
      " 15  ZIP.CODE                       7759 non-null   int64  \n",
      " 16  EMPLOY.CONSTITUTION            7759 non-null   object \n",
      " 17  NET.TAKE.HOME.SALARY           603 non-null    float64\n",
      " 18  PAN.STATUS                     7758 non-null   object \n",
      " 19  CIBIL.SCORE                    7759 non-null   object \n",
      " 20  APPLICATION.SCORE              7756 non-null   object \n",
      " 21  RESIDENTIAL.ADDRESS.SCORE      6135 non-null   float64\n",
      " 22  OFFICE.ADDRESS.SCORE           6136 non-null   float64\n",
      " 23  NAME.SCORE                     2387 non-null   float64\n",
      " 24  APPROVED.AMOUNT                3338 non-null   float64\n",
      " 25  ASSET.MAKE                     3338 non-null   object \n",
      " 26  ASSET.CTG                      3338 non-null   object \n",
      " 27  APPLIED.AMOUNT                 7759 non-null   int64  \n",
      " 28  LOAN.TENOR                     7759 non-null   int64  \n",
      " 29  LOAN.TYPE                      7759 non-null   object \n",
      " 30  DEDUPE.REF.ID1                 19 non-null     float64\n",
      " 31  CAR.CATEGORY                   6 non-null      object \n",
      " 32  OWN.HOUSE.TYPE                 3803 non-null   object \n",
      " 33  HOUSE.SURROGATE.DOCUMENT.TYPE  3803 non-null   object \n",
      " 34  TRADER.YEAR.IN.BUSINESS        98 non-null     float64\n",
      " 35  TRADER.BUSINESS.PROOF          98 non-null     object \n",
      " 36  CREDIT.CARD.NUMBER             360 non-null    float64\n",
      " 37  CREDIT.CARDS.CATEGORY          360 non-null    object \n",
      " 38  PRIMARY.ASSET.CTG              7759 non-null   object \n",
      " 39  PRIMARY.ASSET.MAKE             7759 non-null   object \n",
      " 40  PRIMARY.ASSET.MODELNO          7759 non-null   object \n",
      " 41  VOTER_ID                       7759 non-null   object \n",
      " 42  DRIVING_LICENSE                7759 non-null   object \n",
      " 43  AADHAAR                        7759 non-null   object \n",
      " 44  PAN                            7759 non-null   object \n",
      " 45  BANK_PASSBOOK                  7759 non-null   object \n",
      "dtypes: float64(8), int64(6), object(32)\n",
      "memory usage: 2.7+ MB\n"
     ]
    }
   ],
   "source": [
    "# Other Information of Data\n",
    "df.info()\n",
    "\n",
    "# We have to convert all object datatype into numerical datatype(int/float). As ML model\n",
    "# accept only numerical values"
   ]
  },
  {
   "cell_type": "code",
   "execution_count": 2236,
   "metadata": {},
   "outputs": [
    {
     "data": {
      "text/plain": [
       "APPLICATION.ID                      0\n",
       "DSA.ID                              0\n",
       "DEALER.ID                           0\n",
       "APP.DATE                            0\n",
       "TIME.STAMP                          0\n",
       "APPLICATION.STATUS                  0\n",
       "QUEUE.ID                            0\n",
       "CURRENT.STAGE                       0\n",
       "MARITAL.STATUS                      0\n",
       "GENDER                              0\n",
       "AGE                                 0\n",
       "EDUCATION                           0\n",
       "RESIDENCE.TYPE                      0\n",
       "CITY                                0\n",
       "STATE                               0\n",
       "ZIP.CODE                            0\n",
       "EMPLOY.CONSTITUTION                 0\n",
       "NET.TAKE.HOME.SALARY             7156\n",
       "PAN.STATUS                          1\n",
       "CIBIL.SCORE                         0\n",
       "APPLICATION.SCORE                   3\n",
       "RESIDENTIAL.ADDRESS.SCORE        1624\n",
       "OFFICE.ADDRESS.SCORE             1623\n",
       "NAME.SCORE                       5372\n",
       "APPROVED.AMOUNT                  4421\n",
       "ASSET.MAKE                       4421\n",
       "ASSET.CTG                        4421\n",
       "APPLIED.AMOUNT                      0\n",
       "LOAN.TENOR                          0\n",
       "LOAN.TYPE                           0\n",
       "DEDUPE.REF.ID1                   7740\n",
       "CAR.CATEGORY                     7753\n",
       "OWN.HOUSE.TYPE                   3956\n",
       "HOUSE.SURROGATE.DOCUMENT.TYPE    3956\n",
       "TRADER.YEAR.IN.BUSINESS          7661\n",
       "TRADER.BUSINESS.PROOF            7661\n",
       "CREDIT.CARD.NUMBER               7399\n",
       "CREDIT.CARDS.CATEGORY            7399\n",
       "PRIMARY.ASSET.CTG                   0\n",
       "PRIMARY.ASSET.MAKE                  0\n",
       "PRIMARY.ASSET.MODELNO               0\n",
       "VOTER_ID                            0\n",
       "DRIVING_LICENSE                     0\n",
       "AADHAAR                             0\n",
       "PAN                                 0\n",
       "BANK_PASSBOOK                       0\n",
       "dtype: int64"
      ]
     },
     "execution_count": 2236,
     "metadata": {},
     "output_type": "execute_result"
    }
   ],
   "source": [
    "# Check Null Values of each Column\n",
    "df.isnull().sum()"
   ]
  },
  {
   "cell_type": "markdown",
   "metadata": {},
   "source": [
    "# Exploratory Data Analysis"
   ]
  },
  {
   "cell_type": "markdown",
   "metadata": {},
   "source": [
    "### 1. Categorical Data Visualization"
   ]
  },
  {
   "cell_type": "code",
   "execution_count": 2237,
   "metadata": {},
   "outputs": [
    {
     "data": {
      "text/plain": [
       "<AxesSubplot:xlabel='GENDER', ylabel='count'>"
      ]
     },
     "execution_count": 2237,
     "metadata": {},
     "output_type": "execute_result"
    },
    {
     "data": {
      "image/png": "[encoded data removed]",
      "text/plain": [
       "<Figure size 432x288 with 1 Axes>"
      ]
     },
     "metadata": {
      "needs_background": "light"
     },
     "output_type": "display_data"
    }
   ],
   "source": [
    "#1 Count plot for GENDER\n",
    "df['GENDER'] = df['GENDER'].str.title()\n",
    "df['GENDER'].value_counts()\n",
    "sns.countplot(df['GENDER'])\n",
    "\n",
    "# Conclusion: Majority of applicant are male"
   ]
  },
  {
   "cell_type": "code",
   "execution_count": 2238,
   "metadata": {},
   "outputs": [
    {
     "name": "stdout",
     "output_type": "stream",
     "text": [
      "Married    6257\n",
      "Single     1502\n",
      "Name: MARITAL.STATUS, dtype: int64\n"
     ]
    },
    {
     "data": {
      "text/plain": [
       "<AxesSubplot:xlabel='MARITAL.STATUS', ylabel='count'>"
      ]
     },
     "execution_count": 2238,
     "metadata": {},
     "output_type": "execute_result"
    },
    {
     "data": {
      "image/png": "[encoded data removed]",
      "text/plain": [
       "<Figure size 432x288 with 1 Axes>"
      ]
     },
     "metadata": {
      "needs_background": "light"
     },
     "output_type": "display_data"
    }
   ],
   "source": [
    "#2 Count plot for MARITAL STATUS\n",
    "print(df['MARITAL.STATUS'].value_counts())\n",
    "\n",
    "# Replace 1 by single:\n",
    "sns.countplot(df['MARITAL.STATUS'])\n",
    "# Conclusion: Majority of applicant are Married\n"
   ]
  },
  {
   "cell_type": "code",
   "execution_count": 2239,
   "metadata": {},
   "outputs": [
    {
     "name": "stdout",
     "output_type": "stream",
     "text": [
      "GRADUATE          4257\n",
      "UNDER GRADUATE    1812\n",
      "OTHERS            1227\n",
      "POST-GRADUATE      419\n",
      "PROFESSIONAL        32\n",
      "DOCTORATE           12\n",
      "Name: EDUCATION, dtype: int64\n"
     ]
    },
    {
     "data": {
      "text/plain": [
       "<AxesSubplot:xlabel='EDUCATION', ylabel='count'>"
      ]
     },
     "execution_count": 2239,
     "metadata": {},
     "output_type": "execute_result"
    },
    {
     "data": {
      "image/png": "[encoded data removed]",
      "text/plain": [
       "<Figure size 1080x360 with 1 Axes>"
      ]
     },
     "metadata": {
      "needs_background": "light"
     },
     "output_type": "display_data"
    }
   ],
   "source": [
    "#3 Count plot for EDUCATION\n",
    "print(df['EDUCATION'].value_counts())\n",
    "\n",
    "plt.figure(figsize=(15,5))\n",
    "sns.countplot(df['EDUCATION'])\n",
    "# Conclusion: Majority of applicant are Graduate"
   ]
  },
  {
   "cell_type": "code",
   "execution_count": 2240,
   "metadata": {},
   "outputs": [
    {
     "data": {
      "text/plain": [
       "<AxesSubplot:xlabel='EMPLOY.CONSTITUTION', ylabel='count'>"
      ]
     },
     "execution_count": 2240,
     "metadata": {},
     "output_type": "execute_result"
    },
    {
     "data": {
      "image/png": "[encoded data removed]",
      "text/plain": [
       "<Figure size 1440x360 with 1 Axes>"
      ]
     },
     "metadata": {
      "needs_background": "light"
     },
     "output_type": "display_data"
    }
   ],
   "source": [
    "#4 Count plot for EMPLOY CONSTITUTION\n",
    "plt.figure(figsize=(20,5))\n",
    "sns.countplot(df['EMPLOY.CONSTITUTION'])\n",
    "# Conclusion: Majority of applicant are Self employed and salaried"
   ]
  },
  {
   "cell_type": "code",
   "execution_count": 2241,
   "metadata": {},
   "outputs": [
    {
     "data": {
      "text/plain": [
       "<AxesSubplot:xlabel='RESIDENCE.TYPE', ylabel='count'>"
      ]
     },
     "execution_count": 2241,
     "metadata": {},
     "output_type": "execute_result"
    },
    {
     "data": {
      "image/png": "[encoded data removed]",
      "text/plain": [
       "<Figure size 3600x1080 with 1 Axes>"
      ]
     },
     "metadata": {
      "needs_background": "light"
     },
     "output_type": "display_data"
    }
   ],
   "source": [
    "#5 Count plot for RESIDENCE TYPE\n",
    "plt.figure(figsize=(50,15))\n",
    "sns.countplot(df['RESIDENCE.TYPE'])\n",
    "# Conclusion: Majority of applicant are EDUCATION"
   ]
  },
  {
   "cell_type": "code",
   "execution_count": 2242,
   "metadata": {},
   "outputs": [
    {
     "data": {
      "image/png": "[encoded data removed]",
      "text/plain": [
       "<Figure size 360x360 with 1 Axes>"
      ]
     },
     "metadata": {
      "needs_background": "light"
     },
     "output_type": "display_data"
    },
    {
     "data": {
      "text/plain": [
       "<AxesSubplot:ylabel='APPLICATION.STATUS'>"
      ]
     },
     "execution_count": 2242,
     "metadata": {},
     "output_type": "execute_result"
    },
    {
     "data": {
      "image/png": "[encoded data removed]",
      "text/plain": [
       "<Figure size 432x288 with 1 Axes>"
      ]
     },
     "metadata": {},
     "output_type": "display_data"
    }
   ],
   "source": [
    "#6 Count plot for Target Variable(APPLICATION.STATUS)\n",
    "plt.figure(figsize=(5,5))\n",
    "sns.countplot(df['APPLICATION.STATUS'])\n",
    "plt.show()\n",
    "df['APPLICATION.STATUS'].value_counts().plot(kind='pie',autopct=\"%1.2f%%\")\n",
    "#Conclusion: Dataset is balanced as difference between approved and declined is 14%"
   ]
  },
  {
   "cell_type": "code",
   "execution_count": 2243,
   "metadata": {},
   "outputs": [
    {
     "data": {
      "text/plain": [
       "<AxesSubplot:xlabel='QUEUE.ID', ylabel='count'>"
      ]
     },
     "execution_count": 2243,
     "metadata": {},
     "output_type": "execute_result"
    },
    {
     "data": {
      "image/png": "[encoded data removed]",
      "text/plain": [
       "<Figure size 432x288 with 1 Axes>"
      ]
     },
     "metadata": {
      "needs_background": "light"
     },
     "output_type": "display_data"
    }
   ],
   "source": [
    "#7 Count plot for QUEUE.ID\n",
    "sns.countplot(df['QUEUE.ID'])\n"
   ]
  },
  {
   "cell_type": "code",
   "execution_count": 2244,
   "metadata": {},
   "outputs": [
    {
     "data": {
      "text/plain": [
       "<AxesSubplot:xlabel='CURRENT.STAGE', ylabel='count'>"
      ]
     },
     "execution_count": 2244,
     "metadata": {},
     "output_type": "execute_result"
    },
    {
     "data": {
      "image/png": "[encoded data removed]",
      "text/plain": [
       "<Figure size 1080x360 with 1 Axes>"
      ]
     },
     "metadata": {
      "needs_background": "light"
     },
     "output_type": "display_data"
    }
   ],
   "source": [
    "#8 Count plot for CURRENT.STAGE\n",
    "\n",
    "plt.figure(figsize=(15,5))\n",
    "sns.countplot(df['CURRENT.STAGE'])\n",
    "# Conclusion: Equally distributed "
   ]
  },
  {
   "cell_type": "code",
   "execution_count": 2245,
   "metadata": {},
   "outputs": [
    {
     "data": {
      "text/plain": [
       "0"
      ]
     },
     "execution_count": 2245,
     "metadata": {},
     "output_type": "execute_result"
    },
    {
     "data": {
      "image/png": "[encoded data removed]",
      "text/plain": [
       "<Figure size 1080x360 with 1 Axes>"
      ]
     },
     "metadata": {
      "needs_background": "light"
     },
     "output_type": "display_data"
    }
   ],
   "source": [
    "# 9. Count Plot for PAN.STATUS\n",
    "# Fill missing values by most frequent category using mode\n",
    "most_frequent_category = df['PAN.STATUS'].mode()[0]\n",
    "\n",
    "df['PAN.STATUS'] = df['PAN.STATUS'].fillna(most_frequent_category)\n",
    "plt.figure(figsize=(15,5))\n",
    "sns.countplot(df['PAN.STATUS'])\n",
    "df['PAN.STATUS'].isnull().sum()"
   ]
  },
  {
   "cell_type": "code",
   "execution_count": 2246,
   "metadata": {},
   "outputs": [
    {
     "name": "stdout",
     "output_type": "stream",
     "text": [
      "0    7399\n",
      "1     360\n",
      "Name: CREDIT.CARD.NUMBER, dtype: int64\n"
     ]
    },
    {
     "data": {
      "image/png": "[encoded data removed]",
      "text/plain": [
       "<Figure size 720x360 with 1 Axes>"
      ]
     },
     "metadata": {
      "needs_background": "light"
     },
     "output_type": "display_data"
    }
   ],
   "source": [
    "# CREDIT.CARD.NUMBER: The first six digits of a credit card (including the MII) are used to identify the \n",
    "# issuing institution or bank. Institutions are assigned this unique identifier known\n",
    "# as the Issuer Identifier Number (IIN), also sometimes called the Bank Number.\n",
    "\n",
    "df.loc[df['CREDIT.CARD.NUMBER'] > 1, 'CREDIT.CARD.NUMBER'] = 1\n",
    "\n",
    "## Fill all NaN values by 0\n",
    "df['CREDIT.CARD.NUMBER'] = df['CREDIT.CARD.NUMBER'].fillna(0).astype('int')\n",
    "\n",
    "print(df['CREDIT.CARD.NUMBER'].value_counts())\n",
    "plt.figure(figsize=(10,5))\n",
    "plt.title(\"Count of CREDIT.CARD.NUMBER\")\n",
    "sns.countplot(x=\"CREDIT.CARD.NUMBER\", hue=\"QUEUE.ID\", data=df)\n",
    "plt.show()"
   ]
  },
  {
   "cell_type": "markdown",
   "metadata": {},
   "source": [
    "### 2. Numerical Attribute Visualization"
   ]
  },
  {
   "cell_type": "code",
   "execution_count": 2247,
   "metadata": {},
   "outputs": [
    {
     "data": {
      "image/png": "[encoded data removed]",
      "text/plain": [
       "<Figure size 1080x360 with 1 Axes>"
      ]
     },
     "metadata": {
      "needs_background": "light"
     },
     "output_type": "display_data"
    }
   ],
   "source": [
    "plt.figure(figsize=(15,5))\n",
    "sns.distplot(df['APPLIED.AMOUNT'])\n",
    "plt.show()\n",
    "\n",
    "# plt.show()\n",
    "# The log transformation is used to transform skewed data to approximately conform\n",
    "# to normality. If the original data follows a log-normal distribution or approximately \n",
    "# so, then the log-transformed data follows a normal or near normal distribution."
   ]
  },
  {
   "cell_type": "code",
   "execution_count": 2248,
   "metadata": {},
   "outputs": [
    {
     "data": {
      "text/plain": [
       "<AxesSubplot:>"
      ]
     },
     "execution_count": 2248,
     "metadata": {},
     "output_type": "execute_result"
    },
    {
     "data": {
      "image/png": "[encoded data removed]",
      "text/plain": [
       "<Figure size 432x288 with 1 Axes>"
      ]
     },
     "metadata": {
      "needs_background": "light"
     },
     "output_type": "display_data"
    }
   ],
   "source": [
    "# MinMax Scaler to normalize the distribution\n",
    "minmax_scale = MinMaxScaler().fit(df[['APPLIED.AMOUNT']])\n",
    "df_minmax = minmax_scale.transform(df[['APPLIED.AMOUNT']])\n",
    "sns.distplot(df_minmax)"
   ]
  },
  {
   "cell_type": "code",
   "execution_count": 2249,
   "metadata": {},
   "outputs": [],
   "source": [
    "# plt.figure(figsize=(15,5))\n",
    "# df['TRADER.YEAR.IN.BUSINESS'] = df['TRADER.YEAR.IN.BUSINESS'].fillna(0).astype('int')\n",
    "# sns.distplot(df['TRADER.YEAR.IN.BUSINESS'])\n",
    "# plt.show()\n",
    "# print(df['TRADER.YEAR.IN.BUSINESS'])\n",
    "# minmax_scale = MinMaxScaler().fit(df[['TRADER.YEAR.IN.BUSINESS']])\n",
    "# df_minmax = minmax_scale.transform(df[['TRADER.YEAR.IN.BUSINESS']])\n",
    "# sns.distplot(df_minmax)"
   ]
  },
  {
   "cell_type": "code",
   "execution_count": 2250,
   "metadata": {},
   "outputs": [
    {
     "data": {
      "image/png": "[encoded data removed]",
      "text/plain": [
       "<Figure size 720x360 with 1 Axes>"
      ]
     },
     "metadata": {
      "needs_background": "light"
     },
     "output_type": "display_data"
    }
   ],
   "source": [
    "df.loc[df['APPLICATION.SCORE'] == '-', 'APPLICATION.SCORE'] = 0\n",
    "df.loc[df['APPLICATION.SCORE'] == 'RENGANATHAN MOHAN ', 'APPLICATION.SCORE'] = 0\n",
    "\n",
    "df['APPLICATION.SCORE'] = df['APPLICATION.SCORE'].astype('float')\n",
    "\n",
    "\n",
    "plt.figure(figsize=(10,5))\n",
    "plt.title('APPLICATION.SCORE')\n",
    "plt.xlabel('APPLICATION.SCORE')\n",
    "plt.ylabel('Density')\n",
    "sns.kdeplot(df['APPLICATION.SCORE'],shade=True)\n",
    "plt.show()"
   ]
  },
  {
   "cell_type": "code",
   "execution_count": 2251,
   "metadata": {},
   "outputs": [
    {
     "name": "stdout",
     "output_type": "stream",
     "text": [
      "0.00     2343\n",
      "66.67      34\n",
      "75.00      22\n",
      "71.43      18\n",
      "83.33      15\n",
      "         ... \n",
      "67.32       1\n",
      "47.56       1\n",
      "73.88       1\n",
      "90.52       1\n",
      "78.23       1\n",
      "Name: OFFICE.ADDRESS.SCORE, Length: 2060, dtype: int64\n"
     ]
    },
    {
     "data": {
      "image/png": "[encoded data removed]",
      "text/plain": [
       "<Figure size 432x288 with 1 Axes>"
      ]
     },
     "metadata": {
      "needs_background": "light"
     },
     "output_type": "display_data"
    }
   ],
   "source": [
    "# Fill OFFICE.ADDRESS.SCORE and RESIDENTIAL.ADDRESS.SCORE by its mean and NOT_AUTHORIZED\n",
    "# string is replaced by NaN values\n",
    "\n",
    "print(df['OFFICE.ADDRESS.SCORE'].value_counts())\n",
    "df1 = df['OFFICE.ADDRESS.SCORE'].replace('NOT_AUTHORIZED',np.nan).astype('float')\n",
    "df['OFFICE.ADDRESS.SCORE'] = df2.fillna(df1.mean()).astype('float')\n",
    "\n",
    "sns.distplot(df['OFFICE.ADDRESS.SCORE'])\n",
    "plt.show()"
   ]
  },
  {
   "cell_type": "code",
   "execution_count": 2252,
   "metadata": {},
   "outputs": [
    {
     "data": {
      "text/plain": [
       "<AxesSubplot:xlabel='RESIDENTIAL.ADDRESS.SCORE'>"
      ]
     },
     "execution_count": 2252,
     "metadata": {},
     "output_type": "execute_result"
    },
    {
     "data": {
      "image/png": "[encoded data removed]",
      "text/plain": [
       "<Figure size 432x288 with 1 Axes>"
      ]
     },
     "metadata": {
      "needs_background": "light"
     },
     "output_type": "display_data"
    }
   ],
   "source": [
    "df2 = df['RESIDENTIAL.ADDRESS.SCORE'].replace('NOT_AUTHORIZED',np.nan).astype('float')\n",
    "\n",
    "df['RESIDENTIAL.ADDRESS.SCORE'] =  df1.fillna(df2.mean()).astype('float')\n",
    "sns.distplot(df['RESIDENTIAL.ADDRESS.SCORE'])\n"
   ]
  },
  {
   "cell_type": "code",
   "execution_count": 2253,
   "metadata": {},
   "outputs": [
    {
     "data": {
      "text/plain": [
       "<AxesSubplot:xlabel='APPLICATION.SCORE'>"
      ]
     },
     "execution_count": 2253,
     "metadata": {},
     "output_type": "execute_result"
    },
    {
     "data": {
      "image/png": "[encoded data removed]",
      "text/plain": [
       "<Figure size 720x360 with 1 Axes>"
      ]
     },
     "metadata": {
      "needs_background": "light"
     },
     "output_type": "display_data"
    }
   ],
   "source": [
    "plt.figure(figsize=(10,5))\n",
    "df['APPLICATION.SCORE'].isnull().sum()\n",
    "df['APPLICATION.SCORE'] = df['APPLICATION.SCORE'].fillna(0)\n",
    "\n",
    "sns.distplot(df['APPLICATION.SCORE'])"
   ]
  },
  {
   "cell_type": "code",
   "execution_count": 2254,
   "metadata": {},
   "outputs": [
    {
     "name": "stdout",
     "output_type": "stream",
     "text": [
      "000-1    2731\n",
      "0         444\n",
      "-         205\n",
      "781        95\n",
      "774        89\n",
      "         ... \n",
      "557         1\n",
      "470         1\n",
      "567         1\n",
      "458         1\n",
      "499         1\n",
      "Name: CIBIL.SCORE, Length: 392, dtype: int64\n"
     ]
    },
    {
     "data": {
      "text/plain": [
       "<AxesSubplot:title={'center':'CIBIL.SCORE'}>"
      ]
     },
     "execution_count": 2254,
     "metadata": {},
     "output_type": "execute_result"
    },
    {
     "data": {
      "image/png": "[encoded data removed]",
      "text/plain": [
       "<Figure size 720x360 with 1 Axes>"
      ]
     },
     "metadata": {
      "needs_background": "light"
     },
     "output_type": "display_data"
    }
   ],
   "source": [
    "# Plot for CIBIL Score\n",
    "print(df['CIBIL.SCORE'].value_counts())\n",
    "\n",
    "df1 = df['CIBIL.SCORE'].replace({'0':0,'-':1,'000-1':2}).astype('float')\n",
    "df['CIBIL.SCORE'] = df1.fillna(df1.mean())\n",
    "\n",
    "plt.figure(figsize=(10,5))\n",
    "plt.title('CIBIL.SCORE')\n",
    "sns.kdeplot(df['CIBIL.SCORE'],shade=True)"
   ]
  },
  {
   "cell_type": "markdown",
   "metadata": {},
   "source": [
    "### Label Encoding"
   ]
  },
  {
   "cell_type": "code",
   "execution_count": 2255,
   "metadata": {},
   "outputs": [
    {
     "data": {
      "text/plain": [
       "APPLICATION.ID                     int64\n",
       "DSA.ID                            object\n",
       "DEALER.ID                          int64\n",
       "APP.DATE                          object\n",
       "TIME.STAMP                        object\n",
       "APPLICATION.STATUS                object\n",
       "QUEUE.ID                          object\n",
       "CURRENT.STAGE                     object\n",
       "MARITAL.STATUS                    object\n",
       "GENDER                            object\n",
       "AGE                                int64\n",
       "EDUCATION                         object\n",
       "RESIDENCE.TYPE                    object\n",
       "CITY                              object\n",
       "STATE                             object\n",
       "ZIP.CODE                           int64\n",
       "EMPLOY.CONSTITUTION               object\n",
       "NET.TAKE.HOME.SALARY             float64\n",
       "PAN.STATUS                        object\n",
       "CIBIL.SCORE                      float64\n",
       "APPLICATION.SCORE                float64\n",
       "RESIDENTIAL.ADDRESS.SCORE        float64\n",
       "OFFICE.ADDRESS.SCORE             float64\n",
       "NAME.SCORE                       float64\n",
       "APPROVED.AMOUNT                  float64\n",
       "ASSET.MAKE                        object\n",
       "ASSET.CTG                         object\n",
       "APPLIED.AMOUNT                     int64\n",
       "LOAN.TENOR                         int64\n",
       "LOAN.TYPE                         object\n",
       "DEDUPE.REF.ID1                   float64\n",
       "CAR.CATEGORY                      object\n",
       "OWN.HOUSE.TYPE                    object\n",
       "HOUSE.SURROGATE.DOCUMENT.TYPE     object\n",
       "TRADER.YEAR.IN.BUSINESS          float64\n",
       "TRADER.BUSINESS.PROOF             object\n",
       "CREDIT.CARD.NUMBER                 int64\n",
       "CREDIT.CARDS.CATEGORY             object\n",
       "PRIMARY.ASSET.CTG                 object\n",
       "PRIMARY.ASSET.MAKE                object\n",
       "PRIMARY.ASSET.MODELNO             object\n",
       "VOTER_ID                          object\n",
       "DRIVING_LICENSE                   object\n",
       "AADHAAR                           object\n",
       "PAN                               object\n",
       "BANK_PASSBOOK                     object\n",
       "dtype: object"
      ]
     },
     "execution_count": 2255,
     "metadata": {},
     "output_type": "execute_result"
    }
   ],
   "source": [
    "#  Label Encoding is a popular encoding technique for handling categorical variables\n",
    "df.dtypes"
   ]
  },
  {
   "cell_type": "code",
   "execution_count": 2256,
   "metadata": {},
   "outputs": [
    {
     "data": {
      "text/html": [
       "<div>\n",
       "<style scoped>\n",
       "    .dataframe tbody tr th:only-of-type {\n",
       "        vertical-align: middle;\n",
       "    }\n",
       "\n",
       "    .dataframe tbody tr th {\n",
       "        vertical-align: top;\n",
       "    }\n",
       "\n",
       "    .dataframe thead th {\n",
       "        text-align: right;\n",
       "    }\n",
       "</style>\n",
       "<table border=\"1\" class=\"dataframe\">\n",
       "  <thead>\n",
       "    <tr style=\"text-align: right;\">\n",
       "      <th></th>\n",
       "      <th>0</th>\n",
       "      <th>1</th>\n",
       "      <th>2</th>\n",
       "      <th>3</th>\n",
       "      <th>4</th>\n",
       "    </tr>\n",
       "  </thead>\n",
       "  <tbody>\n",
       "    <tr>\n",
       "      <th>APPLICATION.ID</th>\n",
       "      <td>27497000024</td>\n",
       "      <td>25556001005</td>\n",
       "      <td>27220000249</td>\n",
       "      <td>27067000029</td>\n",
       "      <td>26189000138</td>\n",
       "    </tr>\n",
       "    <tr>\n",
       "      <th>DSA.ID</th>\n",
       "      <td>JB02005</td>\n",
       "      <td>RD02622</td>\n",
       "      <td>SK02345</td>\n",
       "      <td>DN30900</td>\n",
       "      <td>JB02005</td>\n",
       "    </tr>\n",
       "    <tr>\n",
       "      <th>DEALER.ID</th>\n",
       "      <td>27497</td>\n",
       "      <td>25556</td>\n",
       "      <td>27220</td>\n",
       "      <td>27067</td>\n",
       "      <td>26189</td>\n",
       "    </tr>\n",
       "    <tr>\n",
       "      <th>APP.DATE</th>\n",
       "      <td>2017-02-28</td>\n",
       "      <td>2017-02-28</td>\n",
       "      <td>2017-02-28</td>\n",
       "      <td>2017-02-28</td>\n",
       "      <td>2017-02-28</td>\n",
       "    </tr>\n",
       "    <tr>\n",
       "      <th>TIME.STAMP</th>\n",
       "      <td>22:11:01</td>\n",
       "      <td>22:05:51</td>\n",
       "      <td>21:58:34</td>\n",
       "      <td>21:52:46</td>\n",
       "      <td>21:52:33</td>\n",
       "    </tr>\n",
       "    <tr>\n",
       "      <th>APPLICATION.STATUS</th>\n",
       "      <td>1</td>\n",
       "      <td>0</td>\n",
       "      <td>0</td>\n",
       "      <td>1</td>\n",
       "      <td>0</td>\n",
       "    </tr>\n",
       "    <tr>\n",
       "      <th>QUEUE.ID</th>\n",
       "      <td>0</td>\n",
       "      <td>0</td>\n",
       "      <td>0</td>\n",
       "      <td>1</td>\n",
       "      <td>0</td>\n",
       "    </tr>\n",
       "    <tr>\n",
       "      <th>CURRENT.STAGE</th>\n",
       "      <td>6</td>\n",
       "      <td>6</td>\n",
       "      <td>6</td>\n",
       "      <td>1</td>\n",
       "      <td>0</td>\n",
       "    </tr>\n",
       "    <tr>\n",
       "      <th>MARITAL.STATUS</th>\n",
       "      <td>1</td>\n",
       "      <td>0</td>\n",
       "      <td>0</td>\n",
       "      <td>0</td>\n",
       "      <td>0</td>\n",
       "    </tr>\n",
       "    <tr>\n",
       "      <th>GENDER</th>\n",
       "      <td>1</td>\n",
       "      <td>1</td>\n",
       "      <td>1</td>\n",
       "      <td>1</td>\n",
       "      <td>1</td>\n",
       "    </tr>\n",
       "    <tr>\n",
       "      <th>AGE</th>\n",
       "      <td>30</td>\n",
       "      <td>38</td>\n",
       "      <td>52</td>\n",
       "      <td>57</td>\n",
       "      <td>38</td>\n",
       "    </tr>\n",
       "    <tr>\n",
       "      <th>EDUCATION</th>\n",
       "      <td>1</td>\n",
       "      <td>2</td>\n",
       "      <td>1</td>\n",
       "      <td>1</td>\n",
       "      <td>1</td>\n",
       "    </tr>\n",
       "    <tr>\n",
       "      <th>RESIDENCE.TYPE</th>\n",
       "      <td>2</td>\n",
       "      <td>8</td>\n",
       "      <td>6</td>\n",
       "      <td>2</td>\n",
       "      <td>2</td>\n",
       "    </tr>\n",
       "    <tr>\n",
       "      <th>CITY</th>\n",
       "      <td>UDHANA</td>\n",
       "      <td>BHOPAL</td>\n",
       "      <td>RAIPUR</td>\n",
       "      <td>JAMNAGAR</td>\n",
       "      <td>UDHANA</td>\n",
       "    </tr>\n",
       "    <tr>\n",
       "      <th>STATE</th>\n",
       "      <td>GUJARAT</td>\n",
       "      <td>MADHYA PRADESH</td>\n",
       "      <td>CHHATTISGARH</td>\n",
       "      <td>GUJARAT</td>\n",
       "      <td>GUJARAT</td>\n",
       "    </tr>\n",
       "    <tr>\n",
       "      <th>ZIP.CODE</th>\n",
       "      <td>394210</td>\n",
       "      <td>462001</td>\n",
       "      <td>492001</td>\n",
       "      <td>361001</td>\n",
       "      <td>394210</td>\n",
       "    </tr>\n",
       "    <tr>\n",
       "      <th>EMPLOY.CONSTITUTION</th>\n",
       "      <td>3</td>\n",
       "      <td>3</td>\n",
       "      <td>3</td>\n",
       "      <td>3</td>\n",
       "      <td>2</td>\n",
       "    </tr>\n",
       "    <tr>\n",
       "      <th>NET.TAKE.HOME.SALARY</th>\n",
       "      <td>NaN</td>\n",
       "      <td>NaN</td>\n",
       "      <td>NaN</td>\n",
       "      <td>NaN</td>\n",
       "      <td>NaN</td>\n",
       "    </tr>\n",
       "    <tr>\n",
       "      <th>PAN.STATUS</th>\n",
       "      <td>3</td>\n",
       "      <td>3</td>\n",
       "      <td>3</td>\n",
       "      <td>3</td>\n",
       "      <td>0</td>\n",
       "    </tr>\n",
       "    <tr>\n",
       "      <th>CIBIL.SCORE</th>\n",
       "      <td>734</td>\n",
       "      <td>840</td>\n",
       "      <td>863</td>\n",
       "      <td>2</td>\n",
       "      <td>797</td>\n",
       "    </tr>\n",
       "    <tr>\n",
       "      <th>APPLICATION.SCORE</th>\n",
       "      <td>69</td>\n",
       "      <td>108</td>\n",
       "      <td>143</td>\n",
       "      <td>60</td>\n",
       "      <td>62</td>\n",
       "    </tr>\n",
       "    <tr>\n",
       "      <th>RESIDENTIAL.ADDRESS.SCORE</th>\n",
       "      <td>90.8</td>\n",
       "      <td>81.72</td>\n",
       "      <td>71.11</td>\n",
       "      <td>55.91</td>\n",
       "      <td>69.51</td>\n",
       "    </tr>\n",
       "    <tr>\n",
       "      <th>OFFICE.ADDRESS.SCORE</th>\n",
       "      <td>86.5</td>\n",
       "      <td>78.63</td>\n",
       "      <td>73.86</td>\n",
       "      <td>80.67</td>\n",
       "      <td>82.95</td>\n",
       "    </tr>\n",
       "    <tr>\n",
       "      <th>NAME.SCORE</th>\n",
       "      <td>NaN</td>\n",
       "      <td>NaN</td>\n",
       "      <td>NaN</td>\n",
       "      <td>NaN</td>\n",
       "      <td>NaN</td>\n",
       "    </tr>\n",
       "    <tr>\n",
       "      <th>APPROVED.AMOUNT</th>\n",
       "      <td>NaN</td>\n",
       "      <td>47000</td>\n",
       "      <td>30000</td>\n",
       "      <td>NaN</td>\n",
       "      <td>NaN</td>\n",
       "    </tr>\n",
       "    <tr>\n",
       "      <th>ASSET.MAKE</th>\n",
       "      <td>51</td>\n",
       "      <td>40</td>\n",
       "      <td>9</td>\n",
       "      <td>51</td>\n",
       "      <td>51</td>\n",
       "    </tr>\n",
       "    <tr>\n",
       "      <th>ASSET.CTG</th>\n",
       "      <td>46</td>\n",
       "      <td>36</td>\n",
       "      <td>35</td>\n",
       "      <td>46</td>\n",
       "      <td>46</td>\n",
       "    </tr>\n",
       "    <tr>\n",
       "      <th>APPLIED.AMOUNT</th>\n",
       "      <td>28000</td>\n",
       "      <td>47000</td>\n",
       "      <td>30000</td>\n",
       "      <td>49000</td>\n",
       "      <td>45000</td>\n",
       "    </tr>\n",
       "    <tr>\n",
       "      <th>LOAN.TENOR</th>\n",
       "      <td>10</td>\n",
       "      <td>12</td>\n",
       "      <td>12</td>\n",
       "      <td>12</td>\n",
       "      <td>10</td>\n",
       "    </tr>\n",
       "    <tr>\n",
       "      <th>LOAN.TYPE</th>\n",
       "      <td>Consumer Durables</td>\n",
       "      <td>Consumer Durables</td>\n",
       "      <td>Consumer Durables</td>\n",
       "      <td>Consumer Durables</td>\n",
       "      <td>Consumer Durables</td>\n",
       "    </tr>\n",
       "    <tr>\n",
       "      <th>DEDUPE.REF.ID1</th>\n",
       "      <td>NaN</td>\n",
       "      <td>NaN</td>\n",
       "      <td>NaN</td>\n",
       "      <td>NaN</td>\n",
       "      <td>NaN</td>\n",
       "    </tr>\n",
       "    <tr>\n",
       "      <th>CAR.CATEGORY</th>\n",
       "      <td>NaN</td>\n",
       "      <td>NaN</td>\n",
       "      <td>NaN</td>\n",
       "      <td>NaN</td>\n",
       "      <td>NaN</td>\n",
       "    </tr>\n",
       "    <tr>\n",
       "      <th>OWN.HOUSE.TYPE</th>\n",
       "      <td>4</td>\n",
       "      <td>1</td>\n",
       "      <td>2</td>\n",
       "      <td>2</td>\n",
       "      <td>2</td>\n",
       "    </tr>\n",
       "    <tr>\n",
       "      <th>HOUSE.SURROGATE.DOCUMENT.TYPE</th>\n",
       "      <td>NaN</td>\n",
       "      <td>Utility Bill</td>\n",
       "      <td>Utility Bill</td>\n",
       "      <td>Utility Bill</td>\n",
       "      <td>Utility Bill</td>\n",
       "    </tr>\n",
       "    <tr>\n",
       "      <th>TRADER.YEAR.IN.BUSINESS</th>\n",
       "      <td>NaN</td>\n",
       "      <td>NaN</td>\n",
       "      <td>NaN</td>\n",
       "      <td>NaN</td>\n",
       "      <td>NaN</td>\n",
       "    </tr>\n",
       "    <tr>\n",
       "      <th>TRADER.BUSINESS.PROOF</th>\n",
       "      <td>NaN</td>\n",
       "      <td>NaN</td>\n",
       "      <td>NaN</td>\n",
       "      <td>NaN</td>\n",
       "      <td>NaN</td>\n",
       "    </tr>\n",
       "    <tr>\n",
       "      <th>CREDIT.CARD.NUMBER</th>\n",
       "      <td>0</td>\n",
       "      <td>0</td>\n",
       "      <td>0</td>\n",
       "      <td>0</td>\n",
       "      <td>0</td>\n",
       "    </tr>\n",
       "    <tr>\n",
       "      <th>CREDIT.CARDS.CATEGORY</th>\n",
       "      <td>NaN</td>\n",
       "      <td>NaN</td>\n",
       "      <td>NaN</td>\n",
       "      <td>NaN</td>\n",
       "      <td>NaN</td>\n",
       "    </tr>\n",
       "    <tr>\n",
       "      <th>PRIMARY.ASSET.CTG</th>\n",
       "      <td>39</td>\n",
       "      <td>45</td>\n",
       "      <td>0</td>\n",
       "      <td>13</td>\n",
       "      <td>44</td>\n",
       "    </tr>\n",
       "    <tr>\n",
       "      <th>PRIMARY.ASSET.MAKE</th>\n",
       "      <td>38</td>\n",
       "      <td>42</td>\n",
       "      <td>10</td>\n",
       "      <td>46</td>\n",
       "      <td>10</td>\n",
       "    </tr>\n",
       "    <tr>\n",
       "      <th>PRIMARY.ASSET.MODELNO</th>\n",
       "      <td>RT30K3723S8/HL</td>\n",
       "      <td>KLV-29P423D</td>\n",
       "      <td>AIR CONDITIONER VANILLA</td>\n",
       "      <td>K1110 FM</td>\n",
       "      <td>ES18T5C</td>\n",
       "    </tr>\n",
       "    <tr>\n",
       "      <th>VOTER_ID</th>\n",
       "      <td>0</td>\n",
       "      <td>0</td>\n",
       "      <td>0</td>\n",
       "      <td>0</td>\n",
       "      <td>0</td>\n",
       "    </tr>\n",
       "    <tr>\n",
       "      <th>DRIVING_LICENSE</th>\n",
       "      <td>0</td>\n",
       "      <td>1</td>\n",
       "      <td>1</td>\n",
       "      <td>0</td>\n",
       "      <td>0</td>\n",
       "    </tr>\n",
       "    <tr>\n",
       "      <th>AADHAAR</th>\n",
       "      <td>1</td>\n",
       "      <td>0</td>\n",
       "      <td>0</td>\n",
       "      <td>1</td>\n",
       "      <td>0</td>\n",
       "    </tr>\n",
       "    <tr>\n",
       "      <th>PAN</th>\n",
       "      <td>0</td>\n",
       "      <td>0</td>\n",
       "      <td>0</td>\n",
       "      <td>0</td>\n",
       "      <td>1</td>\n",
       "    </tr>\n",
       "    <tr>\n",
       "      <th>BANK_PASSBOOK</th>\n",
       "      <td>0</td>\n",
       "      <td>0</td>\n",
       "      <td>0</td>\n",
       "      <td>0</td>\n",
       "      <td>0</td>\n",
       "    </tr>\n",
       "  </tbody>\n",
       "</table>\n",
       "</div>"
      ],
      "text/plain": [
       "                                               0                  1  \\\n",
       "APPLICATION.ID                       27497000024        25556001005   \n",
       "DSA.ID                                   JB02005            RD02622   \n",
       "DEALER.ID                                  27497              25556   \n",
       "APP.DATE                              2017-02-28         2017-02-28   \n",
       "TIME.STAMP                              22:11:01           22:05:51   \n",
       "APPLICATION.STATUS                             1                  0   \n",
       "QUEUE.ID                                       0                  0   \n",
       "CURRENT.STAGE                                  6                  6   \n",
       "MARITAL.STATUS                                 1                  0   \n",
       "GENDER                                         1                  1   \n",
       "AGE                                           30                 38   \n",
       "EDUCATION                                      1                  2   \n",
       "RESIDENCE.TYPE                                 2                  8   \n",
       "CITY                                      UDHANA             BHOPAL   \n",
       "STATE                                    GUJARAT     MADHYA PRADESH   \n",
       "ZIP.CODE                                  394210             462001   \n",
       "EMPLOY.CONSTITUTION                            3                  3   \n",
       "NET.TAKE.HOME.SALARY                         NaN                NaN   \n",
       "PAN.STATUS                                     3                  3   \n",
       "CIBIL.SCORE                                  734                840   \n",
       "APPLICATION.SCORE                             69                108   \n",
       "RESIDENTIAL.ADDRESS.SCORE                   90.8              81.72   \n",
       "OFFICE.ADDRESS.SCORE                        86.5              78.63   \n",
       "NAME.SCORE                                   NaN                NaN   \n",
       "APPROVED.AMOUNT                              NaN              47000   \n",
       "ASSET.MAKE                                    51                 40   \n",
       "ASSET.CTG                                     46                 36   \n",
       "APPLIED.AMOUNT                             28000              47000   \n",
       "LOAN.TENOR                                    10                 12   \n",
       "LOAN.TYPE                      Consumer Durables  Consumer Durables   \n",
       "DEDUPE.REF.ID1                               NaN                NaN   \n",
       "CAR.CATEGORY                                 NaN                NaN   \n",
       "OWN.HOUSE.TYPE                                 4                  1   \n",
       "HOUSE.SURROGATE.DOCUMENT.TYPE                NaN       Utility Bill   \n",
       "TRADER.YEAR.IN.BUSINESS                      NaN                NaN   \n",
       "TRADER.BUSINESS.PROOF                        NaN                NaN   \n",
       "CREDIT.CARD.NUMBER                             0                  0   \n",
       "CREDIT.CARDS.CATEGORY                        NaN                NaN   \n",
       "PRIMARY.ASSET.CTG                             39                 45   \n",
       "PRIMARY.ASSET.MAKE                            38                 42   \n",
       "PRIMARY.ASSET.MODELNO             RT30K3723S8/HL        KLV-29P423D   \n",
       "VOTER_ID                                       0                  0   \n",
       "DRIVING_LICENSE                                0                  1   \n",
       "AADHAAR                                        1                  0   \n",
       "PAN                                            0                  0   \n",
       "BANK_PASSBOOK                                  0                  0   \n",
       "\n",
       "                                                     2                  3  \\\n",
       "APPLICATION.ID                             27220000249        27067000029   \n",
       "DSA.ID                                         SK02345            DN30900   \n",
       "DEALER.ID                                        27220              27067   \n",
       "APP.DATE                                    2017-02-28         2017-02-28   \n",
       "TIME.STAMP                                    21:58:34           21:52:46   \n",
       "APPLICATION.STATUS                                   0                  1   \n",
       "QUEUE.ID                                             0                  1   \n",
       "CURRENT.STAGE                                        6                  1   \n",
       "MARITAL.STATUS                                       0                  0   \n",
       "GENDER                                               1                  1   \n",
       "AGE                                                 52                 57   \n",
       "EDUCATION                                            1                  1   \n",
       "RESIDENCE.TYPE                                       6                  2   \n",
       "CITY                                            RAIPUR           JAMNAGAR   \n",
       "STATE                                     CHHATTISGARH            GUJARAT   \n",
       "ZIP.CODE                                        492001             361001   \n",
       "EMPLOY.CONSTITUTION                                  3                  3   \n",
       "NET.TAKE.HOME.SALARY                               NaN                NaN   \n",
       "PAN.STATUS                                           3                  3   \n",
       "CIBIL.SCORE                                        863                  2   \n",
       "APPLICATION.SCORE                                  143                 60   \n",
       "RESIDENTIAL.ADDRESS.SCORE                        71.11              55.91   \n",
       "OFFICE.ADDRESS.SCORE                             73.86              80.67   \n",
       "NAME.SCORE                                         NaN                NaN   \n",
       "APPROVED.AMOUNT                                  30000                NaN   \n",
       "ASSET.MAKE                                           9                 51   \n",
       "ASSET.CTG                                           35                 46   \n",
       "APPLIED.AMOUNT                                   30000              49000   \n",
       "LOAN.TENOR                                          12                 12   \n",
       "LOAN.TYPE                            Consumer Durables  Consumer Durables   \n",
       "DEDUPE.REF.ID1                                     NaN                NaN   \n",
       "CAR.CATEGORY                                       NaN                NaN   \n",
       "OWN.HOUSE.TYPE                                       2                  2   \n",
       "HOUSE.SURROGATE.DOCUMENT.TYPE             Utility Bill       Utility Bill   \n",
       "TRADER.YEAR.IN.BUSINESS                            NaN                NaN   \n",
       "TRADER.BUSINESS.PROOF                              NaN                NaN   \n",
       "CREDIT.CARD.NUMBER                                   0                  0   \n",
       "CREDIT.CARDS.CATEGORY                              NaN                NaN   \n",
       "PRIMARY.ASSET.CTG                                    0                 13   \n",
       "PRIMARY.ASSET.MAKE                                  10                 46   \n",
       "PRIMARY.ASSET.MODELNO          AIR CONDITIONER VANILLA           K1110 FM   \n",
       "VOTER_ID                                             0                  0   \n",
       "DRIVING_LICENSE                                      1                  0   \n",
       "AADHAAR                                              0                  1   \n",
       "PAN                                                  0                  0   \n",
       "BANK_PASSBOOK                                        0                  0   \n",
       "\n",
       "                                               4  \n",
       "APPLICATION.ID                       26189000138  \n",
       "DSA.ID                                   JB02005  \n",
       "DEALER.ID                                  26189  \n",
       "APP.DATE                              2017-02-28  \n",
       "TIME.STAMP                              21:52:33  \n",
       "APPLICATION.STATUS                             0  \n",
       "QUEUE.ID                                       0  \n",
       "CURRENT.STAGE                                  0  \n",
       "MARITAL.STATUS                                 0  \n",
       "GENDER                                         1  \n",
       "AGE                                           38  \n",
       "EDUCATION                                      1  \n",
       "RESIDENCE.TYPE                                 2  \n",
       "CITY                                      UDHANA  \n",
       "STATE                                    GUJARAT  \n",
       "ZIP.CODE                                  394210  \n",
       "EMPLOY.CONSTITUTION                            2  \n",
       "NET.TAKE.HOME.SALARY                         NaN  \n",
       "PAN.STATUS                                     0  \n",
       "CIBIL.SCORE                                  797  \n",
       "APPLICATION.SCORE                             62  \n",
       "RESIDENTIAL.ADDRESS.SCORE                  69.51  \n",
       "OFFICE.ADDRESS.SCORE                       82.95  \n",
       "NAME.SCORE                                   NaN  \n",
       "APPROVED.AMOUNT                              NaN  \n",
       "ASSET.MAKE                                    51  \n",
       "ASSET.CTG                                     46  \n",
       "APPLIED.AMOUNT                             45000  \n",
       "LOAN.TENOR                                    10  \n",
       "LOAN.TYPE                      Consumer Durables  \n",
       "DEDUPE.REF.ID1                               NaN  \n",
       "CAR.CATEGORY                                 NaN  \n",
       "OWN.HOUSE.TYPE                                 2  \n",
       "HOUSE.SURROGATE.DOCUMENT.TYPE       Utility Bill  \n",
       "TRADER.YEAR.IN.BUSINESS                      NaN  \n",
       "TRADER.BUSINESS.PROOF                        NaN  \n",
       "CREDIT.CARD.NUMBER                             0  \n",
       "CREDIT.CARDS.CATEGORY                        NaN  \n",
       "PRIMARY.ASSET.CTG                             44  \n",
       "PRIMARY.ASSET.MAKE                            10  \n",
       "PRIMARY.ASSET.MODELNO                    ES18T5C  \n",
       "VOTER_ID                                       0  \n",
       "DRIVING_LICENSE                                0  \n",
       "AADHAAR                                        0  \n",
       "PAN                                            1  \n",
       "BANK_PASSBOOK                                  0  "
      ]
     },
     "execution_count": 2256,
     "metadata": {},
     "output_type": "execute_result"
    }
   ],
   "source": [
    "# Binary Features\n",
    "cat_features_binary = ['APPLICATION.STATUS','QUEUE.ID','GENDER',\n",
    "                'MARITAL.STATUS','VOTER_ID','DRIVING_LICENSE','AADHAAR','PAN','BANK_PASSBOOK']\n",
    "\n",
    "le=LabelEncoder()\n",
    "for feature in cat_features_binary:\n",
    "    df[feature]=le.fit_transform(df[feature])\n",
    "df.head().T\n",
    "\n",
    "# Multiple categorical features\n",
    "\n",
    "cat_features = ['EMPLOY.CONSTITUTION','EDUCATION','CURRENT.STAGE','RESIDENCE.TYPE',\n",
    "                'PAN.STATUS','OWN.HOUSE.TYPE','PRIMARY.ASSET.CTG','PRIMARY.ASSET.MAKE','ASSET.MAKE','ASSET.CTG']\n",
    "for feature in cat_features:\n",
    "    df[feature]=le.fit_transform(df[feature])\n",
    "df.head().T"
   ]
  },
  {
   "cell_type": "code",
   "execution_count": null,
   "metadata": {},
   "outputs": [],
   "source": []
  },
  {
   "cell_type": "markdown",
   "metadata": {},
   "source": [
    "### Drop Features\n"
   ]
  },
  {
   "cell_type": "code",
   "execution_count": 2257,
   "metadata": {},
   "outputs": [],
   "source": [
    "features_drop = ['APPLICATION.ID','DSA.ID','DEALER.ID','APP.DATE','TIME.STAMP','CITY',\n",
    "                'STATE','ZIP.CODE','CREDIT.CARDS.CATEGORY','TRADER.BUSINESS.PROOF',\n",
    "                'PRIMARY.ASSET.MODELNO','CAR.CATEGORY','DEDUPE.REF.ID1','LOAN.TYPE',\n",
    "                ]\n",
    "df.drop(features_drop,axis = 1,inplace=True)"
   ]
  },
  {
   "cell_type": "code",
   "execution_count": 2258,
   "metadata": {},
   "outputs": [],
   "source": [
    "features_drop = ['NET.TAKE.HOME.SALARY','HOUSE.SURROGATE.DOCUMENT.TYPE','APPROVED.AMOUNT',\n",
    "                'NAME.SCORE','TRADER.YEAR.IN.BUSINESS']\n",
    "df.drop(features_drop,axis = 1,inplace=True)"
   ]
  },
  {
   "cell_type": "code",
   "execution_count": 2259,
   "metadata": {},
   "outputs": [
    {
     "data": {
      "text/plain": [
       "APPLICATION.STATUS           0\n",
       "QUEUE.ID                     0\n",
       "CURRENT.STAGE                0\n",
       "MARITAL.STATUS               0\n",
       "GENDER                       0\n",
       "AGE                          0\n",
       "EDUCATION                    0\n",
       "RESIDENCE.TYPE               0\n",
       "EMPLOY.CONSTITUTION          0\n",
       "PAN.STATUS                   0\n",
       "CIBIL.SCORE                  0\n",
       "APPLICATION.SCORE            0\n",
       "RESIDENTIAL.ADDRESS.SCORE    0\n",
       "OFFICE.ADDRESS.SCORE         0\n",
       "ASSET.MAKE                   0\n",
       "ASSET.CTG                    0\n",
       "APPLIED.AMOUNT               0\n",
       "LOAN.TENOR                   0\n",
       "OWN.HOUSE.TYPE               0\n",
       "CREDIT.CARD.NUMBER           0\n",
       "PRIMARY.ASSET.CTG            0\n",
       "PRIMARY.ASSET.MAKE           0\n",
       "VOTER_ID                     0\n",
       "DRIVING_LICENSE              0\n",
       "AADHAAR                      0\n",
       "PAN                          0\n",
       "BANK_PASSBOOK                0\n",
       "dtype: int64"
      ]
     },
     "execution_count": 2259,
     "metadata": {},
     "output_type": "execute_result"
    }
   ],
   "source": [
    "df.isnull().sum()"
   ]
  },
  {
   "cell_type": "code",
   "execution_count": 2278,
   "metadata": {},
   "outputs": [
    {
     "data": {
      "text/plain": [
       "<AxesSubplot:>"
      ]
     },
     "execution_count": 2278,
     "metadata": {},
     "output_type": "execute_result"
    },
    {
     "data": {
      "image/png": "[encoded data removed]",
      "text/plain": [
       "<Figure size 1080x1080 with 2 Axes>"
      ]
     },
     "metadata": {
      "needs_background": "light"
     },
     "output_type": "display_data"
    }
   ],
   "source": [
    "### COorelation Matrix\n",
    "corr = df.corr()\n",
    "plt.figure(figsize=(15,15))\n",
    "sns.heatmap(corr,annot = True,cmap='BuPu')"
   ]
  },
  {
   "cell_type": "code",
   "execution_count": 2261,
   "metadata": {},
   "outputs": [
    {
     "name": "stdout",
     "output_type": "stream",
     "text": [
      "<class 'pandas.core.frame.DataFrame'>\n",
      "RangeIndex: 7759 entries, 0 to 7758\n",
      "Data columns (total 27 columns):\n",
      " #   Column                     Non-Null Count  Dtype  \n",
      "---  ------                     --------------  -----  \n",
      " 0   APPLICATION.STATUS         7759 non-null   int64  \n",
      " 1   QUEUE.ID                   7759 non-null   int64  \n",
      " 2   CURRENT.STAGE              7759 non-null   int64  \n",
      " 3   MARITAL.STATUS             7759 non-null   int64  \n",
      " 4   GENDER                     7759 non-null   int64  \n",
      " 5   AGE                        7759 non-null   int64  \n",
      " 6   EDUCATION                  7759 non-null   int64  \n",
      " 7   RESIDENCE.TYPE             7759 non-null   int64  \n",
      " 8   EMPLOY.CONSTITUTION        7759 non-null   int64  \n",
      " 9   PAN.STATUS                 7759 non-null   int64  \n",
      " 10  CIBIL.SCORE                7759 non-null   float64\n",
      " 11  APPLICATION.SCORE          7759 non-null   float64\n",
      " 12  RESIDENTIAL.ADDRESS.SCORE  7759 non-null   float64\n",
      " 13  OFFICE.ADDRESS.SCORE       7759 non-null   float64\n",
      " 14  ASSET.MAKE                 7759 non-null   int64  \n",
      " 15  ASSET.CTG                  7759 non-null   int64  \n",
      " 16  APPLIED.AMOUNT             7759 non-null   int64  \n",
      " 17  LOAN.TENOR                 7759 non-null   int64  \n",
      " 18  OWN.HOUSE.TYPE             7759 non-null   int64  \n",
      " 19  CREDIT.CARD.NUMBER         7759 non-null   int64  \n",
      " 20  PRIMARY.ASSET.CTG          7759 non-null   int64  \n",
      " 21  PRIMARY.ASSET.MAKE         7759 non-null   int64  \n",
      " 22  VOTER_ID                   7759 non-null   int64  \n",
      " 23  DRIVING_LICENSE            7759 non-null   int64  \n",
      " 24  AADHAAR                    7759 non-null   int64  \n",
      " 25  PAN                        7759 non-null   int64  \n",
      " 26  BANK_PASSBOOK              7759 non-null   int64  \n",
      "dtypes: float64(4), int64(23)\n",
      "memory usage: 1.6 MB\n"
     ]
    }
   ],
   "source": [
    "df.info()"
   ]
  },
  {
   "cell_type": "markdown",
   "metadata": {},
   "source": [
    "## Training data preparation"
   ]
  },
  {
   "cell_type": "code",
   "execution_count": 2262,
   "metadata": {},
   "outputs": [
    {
     "data": {
      "text/html": [
       "<div>\n",
       "<style scoped>\n",
       "    .dataframe tbody tr th:only-of-type {\n",
       "        vertical-align: middle;\n",
       "    }\n",
       "\n",
       "    .dataframe tbody tr th {\n",
       "        vertical-align: top;\n",
       "    }\n",
       "\n",
       "    .dataframe thead th {\n",
       "        text-align: right;\n",
       "    }\n",
       "</style>\n",
       "<table border=\"1\" class=\"dataframe\">\n",
       "  <thead>\n",
       "    <tr style=\"text-align: right;\">\n",
       "      <th></th>\n",
       "      <th>CURRENT.STAGE</th>\n",
       "      <th>MARITAL.STATUS</th>\n",
       "      <th>GENDER</th>\n",
       "      <th>AGE</th>\n",
       "      <th>EDUCATION</th>\n",
       "      <th>RESIDENCE.TYPE</th>\n",
       "      <th>EMPLOY.CONSTITUTION</th>\n",
       "      <th>PAN.STATUS</th>\n",
       "      <th>CIBIL.SCORE</th>\n",
       "      <th>APPLICATION.SCORE</th>\n",
       "      <th>...</th>\n",
       "      <th>LOAN.TENOR</th>\n",
       "      <th>OWN.HOUSE.TYPE</th>\n",
       "      <th>CREDIT.CARD.NUMBER</th>\n",
       "      <th>PRIMARY.ASSET.CTG</th>\n",
       "      <th>PRIMARY.ASSET.MAKE</th>\n",
       "      <th>VOTER_ID</th>\n",
       "      <th>DRIVING_LICENSE</th>\n",
       "      <th>AADHAAR</th>\n",
       "      <th>PAN</th>\n",
       "      <th>BANK_PASSBOOK</th>\n",
       "    </tr>\n",
       "  </thead>\n",
       "  <tbody>\n",
       "    <tr>\n",
       "      <th>0</th>\n",
       "      <td>6</td>\n",
       "      <td>1</td>\n",
       "      <td>1</td>\n",
       "      <td>30</td>\n",
       "      <td>1</td>\n",
       "      <td>2</td>\n",
       "      <td>3</td>\n",
       "      <td>3</td>\n",
       "      <td>734.0</td>\n",
       "      <td>69.0</td>\n",
       "      <td>...</td>\n",
       "      <td>10</td>\n",
       "      <td>4</td>\n",
       "      <td>0</td>\n",
       "      <td>39</td>\n",
       "      <td>38</td>\n",
       "      <td>0</td>\n",
       "      <td>0</td>\n",
       "      <td>1</td>\n",
       "      <td>0</td>\n",
       "      <td>0</td>\n",
       "    </tr>\n",
       "    <tr>\n",
       "      <th>1</th>\n",
       "      <td>6</td>\n",
       "      <td>0</td>\n",
       "      <td>1</td>\n",
       "      <td>38</td>\n",
       "      <td>2</td>\n",
       "      <td>8</td>\n",
       "      <td>3</td>\n",
       "      <td>3</td>\n",
       "      <td>840.0</td>\n",
       "      <td>108.0</td>\n",
       "      <td>...</td>\n",
       "      <td>12</td>\n",
       "      <td>1</td>\n",
       "      <td>0</td>\n",
       "      <td>45</td>\n",
       "      <td>42</td>\n",
       "      <td>0</td>\n",
       "      <td>1</td>\n",
       "      <td>0</td>\n",
       "      <td>0</td>\n",
       "      <td>0</td>\n",
       "    </tr>\n",
       "    <tr>\n",
       "      <th>2</th>\n",
       "      <td>6</td>\n",
       "      <td>0</td>\n",
       "      <td>1</td>\n",
       "      <td>52</td>\n",
       "      <td>1</td>\n",
       "      <td>6</td>\n",
       "      <td>3</td>\n",
       "      <td>3</td>\n",
       "      <td>863.0</td>\n",
       "      <td>143.0</td>\n",
       "      <td>...</td>\n",
       "      <td>12</td>\n",
       "      <td>2</td>\n",
       "      <td>0</td>\n",
       "      <td>0</td>\n",
       "      <td>10</td>\n",
       "      <td>0</td>\n",
       "      <td>1</td>\n",
       "      <td>0</td>\n",
       "      <td>0</td>\n",
       "      <td>0</td>\n",
       "    </tr>\n",
       "    <tr>\n",
       "      <th>3</th>\n",
       "      <td>1</td>\n",
       "      <td>0</td>\n",
       "      <td>1</td>\n",
       "      <td>57</td>\n",
       "      <td>1</td>\n",
       "      <td>2</td>\n",
       "      <td>3</td>\n",
       "      <td>3</td>\n",
       "      <td>2.0</td>\n",
       "      <td>60.0</td>\n",
       "      <td>...</td>\n",
       "      <td>12</td>\n",
       "      <td>2</td>\n",
       "      <td>0</td>\n",
       "      <td>13</td>\n",
       "      <td>46</td>\n",
       "      <td>0</td>\n",
       "      <td>0</td>\n",
       "      <td>1</td>\n",
       "      <td>0</td>\n",
       "      <td>0</td>\n",
       "    </tr>\n",
       "    <tr>\n",
       "      <th>4</th>\n",
       "      <td>0</td>\n",
       "      <td>0</td>\n",
       "      <td>1</td>\n",
       "      <td>38</td>\n",
       "      <td>1</td>\n",
       "      <td>2</td>\n",
       "      <td>2</td>\n",
       "      <td>0</td>\n",
       "      <td>797.0</td>\n",
       "      <td>62.0</td>\n",
       "      <td>...</td>\n",
       "      <td>10</td>\n",
       "      <td>2</td>\n",
       "      <td>0</td>\n",
       "      <td>44</td>\n",
       "      <td>10</td>\n",
       "      <td>0</td>\n",
       "      <td>0</td>\n",
       "      <td>0</td>\n",
       "      <td>1</td>\n",
       "      <td>0</td>\n",
       "    </tr>\n",
       "  </tbody>\n",
       "</table>\n",
       "<p>5 rows × 25 columns</p>\n",
       "</div>"
      ],
      "text/plain": [
       "   CURRENT.STAGE  MARITAL.STATUS  GENDER  AGE  EDUCATION  RESIDENCE.TYPE  \\\n",
       "0              6               1       1   30          1               2   \n",
       "1              6               0       1   38          2               8   \n",
       "2              6               0       1   52          1               6   \n",
       "3              1               0       1   57          1               2   \n",
       "4              0               0       1   38          1               2   \n",
       "\n",
       "   EMPLOY.CONSTITUTION  PAN.STATUS  CIBIL.SCORE  APPLICATION.SCORE  ...  \\\n",
       "0                    3           3        734.0               69.0  ...   \n",
       "1                    3           3        840.0              108.0  ...   \n",
       "2                    3           3        863.0              143.0  ...   \n",
       "3                    3           3          2.0               60.0  ...   \n",
       "4                    2           0        797.0               62.0  ...   \n",
       "\n",
       "   LOAN.TENOR  OWN.HOUSE.TYPE  CREDIT.CARD.NUMBER  PRIMARY.ASSET.CTG  \\\n",
       "0          10               4                   0                 39   \n",
       "1          12               1                   0                 45   \n",
       "2          12               2                   0                  0   \n",
       "3          12               2                   0                 13   \n",
       "4          10               2                   0                 44   \n",
       "\n",
       "   PRIMARY.ASSET.MAKE  VOTER_ID  DRIVING_LICENSE  AADHAAR  PAN  BANK_PASSBOOK  \n",
       "0                  38         0                0        1    0              0  \n",
       "1                  42         0                1        0    0              0  \n",
       "2                  10         0                1        0    0              0  \n",
       "3                  46         0                0        1    0              0  \n",
       "4                  10         0                0        0    1              0  \n",
       "\n",
       "[5 rows x 25 columns]"
      ]
     },
     "execution_count": 2262,
     "metadata": {},
     "output_type": "execute_result"
    }
   ],
   "source": [
    "X = df.drop(['QUEUE.ID','APPLICATION.STATUS'],axis = 1)\n",
    "y = df['QUEUE.ID'] # Classifies Straight through process and Under writing\n",
    "X.head()"
   ]
  },
  {
   "cell_type": "code",
   "execution_count": 2263,
   "metadata": {},
   "outputs": [],
   "source": [
    "# x_train, x_test, y_train, y_test = train_test_split(X, y, test_size=0.2, random_state=42)\n",
    "x_train = X\n",
    "x_test = X\n",
    "y_train = y\n",
    "y_test = y"
   ]
  },
  {
   "cell_type": "markdown",
   "metadata": {},
   "source": [
    "# Model Building"
   ]
  },
  {
   "cell_type": "markdown",
   "metadata": {},
   "source": [
    "## 1. Logistic Regression Classifier"
   ]
  },
  {
   "cell_type": "code",
   "execution_count": 2264,
   "metadata": {},
   "outputs": [
    {
     "name": "stdout",
     "output_type": "stream",
     "text": [
      "Accuracy: 0.7698156978992138\n",
      "Confusion Matrix:\n",
      " [[4653  719]\n",
      " [1067 1320]]\n",
      "Classification Report:\n",
      "               precision    recall  f1-score   support\n",
      "\n",
      "           0       0.81      0.87      0.84      5372\n",
      "           1       0.65      0.55      0.60      2387\n",
      "\n",
      "    accuracy                           0.77      7759\n",
      "   macro avg       0.73      0.71      0.72      7759\n",
      "weighted avg       0.76      0.77      0.76      7759\n",
      "\n"
     ]
    }
   ],
   "source": [
    "model = LogisticRegression()\n",
    "model.fit(x_train,y_train)\n",
    "y_pred = model.predict(x_test)\n",
    "print(\"Accuracy:\",accuracy_score(y_test,y_pred))\n",
    "print(\"Confusion Matrix:\\n\",confusion_matrix(y_test,y_pred))\n",
    "print(\"Classification Report:\\n\",classification_report(y_test,y_pred))"
   ]
  },
  {
   "cell_type": "markdown",
   "metadata": {},
   "source": [
    "## 2. Decision Tree Classifier"
   ]
  },
  {
   "cell_type": "code",
   "execution_count": 2265,
   "metadata": {},
   "outputs": [
    {
     "name": "stdout",
     "output_type": "stream",
     "text": [
      "0.8872277355329296\n",
      "[[5125  247]\n",
      " [ 628 1759]]\n",
      "              precision    recall  f1-score   support\n",
      "\n",
      "           0       0.89      0.95      0.92      5372\n",
      "           1       0.88      0.74      0.80      2387\n",
      "\n",
      "    accuracy                           0.89      7759\n",
      "   macro avg       0.88      0.85      0.86      7759\n",
      "weighted avg       0.89      0.89      0.88      7759\n",
      "\n"
     ]
    }
   ],
   "source": [
    "\n",
    "# Test Data Accuracy\n",
    "dtree = DecisionTreeClassifier(random_state=17,max_depth=5)\n",
    "dtree.fit(x_train,y_train)\n",
    "y_pred_dt=dtree.predict(x_test)\n",
    "\n",
    "print(accuracy_score(y_test,y_pred_dt))\n",
    "print(confusion_matrix(y_test,y_pred_dt))\n",
    "print(classification_report(y_test,y_pred_dt))"
   ]
  },
  {
   "cell_type": "markdown",
   "metadata": {},
   "source": [
    "#### Decision Tree Classifier with Cross Validation"
   ]
  },
  {
   "cell_type": "code",
   "execution_count": 2266,
   "metadata": {},
   "outputs": [
    {
     "name": "stdout",
     "output_type": "stream",
     "text": [
      "Accuracy: 0.8800088127702029\n"
     ]
    }
   ],
   "source": [
    "cv_score=cross_val_score(dtree,X,y,cv=10)\n",
    "print(\"Accuracy:\",np.mean(cv_score))"
   ]
  },
  {
   "cell_type": "markdown",
   "metadata": {},
   "source": [
    "## 3. Random Forest Classifier"
   ]
  },
  {
   "cell_type": "code",
   "execution_count": 2268,
   "metadata": {},
   "outputs": [
    {
     "name": "stdout",
     "output_type": "stream",
     "text": [
      "1.0\n",
      "[[5372    0]\n",
      " [   0 2387]]\n",
      "              precision    recall  f1-score   support\n",
      "\n",
      "           0       1.00      1.00      1.00      5372\n",
      "           1       1.00      1.00      1.00      2387\n",
      "\n",
      "    accuracy                           1.00      7759\n",
      "   macro avg       1.00      1.00      1.00      7759\n",
      "weighted avg       1.00      1.00      1.00      7759\n",
      "\n"
     ]
    }
   ],
   "source": [
    "rfc = RandomForestClassifier()\n",
    "rfc.fit(x_train, y_train)\n",
    "y_pred_rfc = rfc.predict(x_test)\n",
    "\n",
    "print(accuracy_score(y_test,y_pred_rfc))\n",
    "print(confusion_matrix(y_test,y_pred_rfc))\n",
    "print(classification_report(y_test,y_pred_rfc))"
   ]
  },
  {
   "cell_type": "markdown",
   "metadata": {},
   "source": [
    "#### Random Forest CLassifier with Cross Validation"
   ]
  },
  {
   "cell_type": "code",
   "execution_count": 2099,
   "metadata": {},
   "outputs": [
    {
     "name": "stdout",
     "output_type": "stream",
     "text": [
      "Accuracy: [0.98582474 0.98840206 0.9935567  0.98582474 0.98840206 0.9871134\n",
      " 0.9935567  0.99613402 0.98840206 0.99225806]\n"
     ]
    }
   ],
   "source": [
    "cv_score=cross_val_score(rfc,X,y,cv=10)\n",
    "print(\"Accuracy:\",cv_score)"
   ]
  },
  {
   "cell_type": "markdown",
   "metadata": {},
   "source": [
    "## 3.1 Accuracy improvement using Hyper Parameter Tuning"
   ]
  },
  {
   "cell_type": "markdown",
   "metadata": {},
   "source": [
    "### 3.1.1 Hyper Parameter Tuning for Random Forest algorithm using GridSearchCV"
   ]
  },
  {
   "cell_type": "code",
   "execution_count": 2061,
   "metadata": {},
   "outputs": [
    {
     "name": "stdout",
     "output_type": "stream",
     "text": [
      "Accuracy: 1.0\n",
      "Confusion Matrix:\n",
      " [[5372    0]\n",
      " [   0 2387]]\n",
      "Classification Report:\n",
      "               precision    recall  f1-score   support\n",
      "\n",
      "           0       1.00      1.00      1.00      5372\n",
      "           1       1.00      1.00      1.00      2387\n",
      "\n",
      "    accuracy                           1.00      7759\n",
      "   macro avg       1.00      1.00      1.00      7759\n",
      "weighted avg       1.00      1.00      1.00      7759\n",
      "\n"
     ]
    }
   ],
   "source": [
    "param_grid = [\n",
    "{'n_estimators': [10, 500], 'max_features': [5, 100], \n",
    " 'max_depth': [4, 30, None], 'bootstrap': [True, False]}\n",
    "]\n",
    "\n",
    "grid_search_forest = GridSearchCV(rfc, param_grid, cv=10, scoring='neg_mean_squared_error')\n",
    "grid_search_forest.fit(x_train, y_train)\n",
    "\n",
    "y_pred = grid_search_forest.predict(x_test)\n",
    "print(\"Accuracy:\",accuracy_score(y_test,y_pred))\n",
    "print(\"Confusion Matrix:\\n\",confusion_matrix(y_test,y_pred))\n",
    "print(\"Classification Report:\\n\",classification_report(y_test,y_pred))\n",
    "# Conclusion : Accuracy incresed after hyperparameter tuning"
   ]
  },
  {
   "cell_type": "markdown",
   "metadata": {},
   "source": [
    "### 3.1.2 Hyper Parameter Tuning for Random Forest algorithm using RandomizedSearchCV"
   ]
  },
  {
   "cell_type": "code",
   "execution_count": 1975,
   "metadata": {},
   "outputs": [
    {
     "name": "stdout",
     "output_type": "stream",
     "text": [
      "Fitting 10 folds for each of 10 candidates, totalling 100 fits\n",
      "Accuracy: 0.9885294496713494\n",
      "Confusion Matrix:\n",
      " [[5358   14]\n",
      " [  75 2312]]\n",
      "classification_report:\n",
      "               precision    recall  f1-score   support\n",
      "\n",
      "           0       0.99      1.00      0.99      5372\n",
      "           1       0.99      0.97      0.98      2387\n",
      "\n",
      "    accuracy                           0.99      7759\n",
      "   macro avg       0.99      0.98      0.99      7759\n",
      "weighted avg       0.99      0.99      0.99      7759\n",
      "\n"
     ]
    }
   ],
   "source": [
    "# Use the random grid to search for best hyperparameters\n",
    "random_grid = {'max_depth': [1, 23, 45],\n",
    " 'max_features': ['auto', 'sqrt'],\n",
    " 'min_samples_split': [5, 10],\n",
    " 'n_estimators': [20, 65, 110, 155, 200]}\n",
    "\n",
    "# Random search of parameters, using 3 fold cross validation, \n",
    "# search across 100 different combinations, and use all available cores\n",
    "\n",
    "rf_random = RandomizedSearchCV(estimator = rfc, param_distributions = random_grid, n_iter = 10, cv = 10, verbose=2, random_state=42, n_jobs = -1, scoring='neg_mean_squared_error')\n",
    "# Fit the random search model\n",
    "rf_random.fit(x_train, y_train)\n",
    "\n",
    "# The key 'params' is used to store a list of parameter settings dicts for all the\n",
    "# parameter candidates.\n",
    "\n",
    "y_pred= rf_random.predict(x_test)\n",
    "print(\"Accuracy:\",accuracy_score(y_test,y_pred))\n",
    "print(\"Confusion Matrix:\\n\",confusion_matrix(y_test,y_pred))\n",
    "print(\"classification_report:\\n\",classification_report(y_test,y_pred))"
   ]
  },
  {
   "cell_type": "code",
   "execution_count": null,
   "metadata": {},
   "outputs": [],
   "source": []
  },
  {
   "cell_type": "markdown",
   "metadata": {},
   "source": [
    "## 4. MLP Classifier"
   ]
  },
  {
   "cell_type": "code",
   "execution_count": 2063,
   "metadata": {},
   "outputs": [
    {
     "name": "stdout",
     "output_type": "stream",
     "text": [
      "Accuracy: 84.62%\n"
     ]
    }
   ],
   "source": [
    "#Feature Scaling\n",
    "rs=MinMaxScaler()\n",
    "x_train=rs.fit_transform(x_train)\n",
    "x_test=rs.transform(x_test)\n",
    "\n",
    "#Initialize the Multi Layer Perceptron Classifier\n",
    "#model=MLPClassifier(alpha=0.01, batch_size=256, epsilon=1e-08, hidden_layer_sizes=(300,), learning_rate='adaptive', max_iter=500)\n",
    "model=MLPClassifier()\n",
    "#Train the model\n",
    "model.fit(x_train,y_train)\n",
    "\n",
    "#Predict for the test set\n",
    "y_pred=model.predict(x_test)\n",
    "\n",
    "#Calculate the accuracy of our model\n",
    "accuracy=accuracy_score(y_true=y_test, y_pred=y_pred)\n",
    "\n",
    "#Print the accuracy\n",
    "print(\"Accuracy: {:.2f}%\".format(accuracy*100))"
   ]
  },
  {
   "cell_type": "markdown",
   "metadata": {},
   "source": [
    "## 5. AdaBoostClassifier"
   ]
  },
  {
   "cell_type": "code",
   "execution_count": 2071,
   "metadata": {},
   "outputs": [
    {
     "name": "stdout",
     "output_type": "stream",
     "text": [
      "Accuracy: 1.0\n",
      "Confusion Matrix:\n",
      " [[5372    0]\n",
      " [   0 2387]]\n",
      "Classification Report:\n",
      "               precision    recall  f1-score   support\n",
      "\n",
      "           0       1.00      1.00      1.00      5372\n",
      "           1       1.00      1.00      1.00      2387\n",
      "\n",
      "    accuracy                           1.00      7759\n",
      "   macro avg       1.00      1.00      1.00      7759\n",
      "weighted avg       1.00      1.00      1.00      7759\n",
      "\n"
     ]
    }
   ],
   "source": [
    "#Without CV \n",
    "adb=AdaBoostClassifier(DecisionTreeClassifier(max_depth=5),n_estimators=100)\n",
    "adb.fit(x_train,y_train)\n",
    "y_pred=adb.predict(x_test)\n",
    "print(\"Accuracy:\",accuracy_score(y_test,y_pred))\n",
    "print(\"Confusion Matrix:\\n\",confusion_matrix(y_test,y_pred))\n",
    "print(\"Classification Report:\\n\",classification_report(y_test,y_pred))"
   ]
  },
  {
   "cell_type": "markdown",
   "metadata": {},
   "source": [
    "#### AdaBoost Classifier with Cross Validation"
   ]
  },
  {
   "cell_type": "code",
   "execution_count": 2069,
   "metadata": {},
   "outputs": [
    {
     "name": "stdout",
     "output_type": "stream",
     "text": [
      "Accuracy: 0.8556499833721316\n"
     ]
    }
   ],
   "source": [
    "#With CV \n",
    "# adb=AdaBoostClassifier()\n",
    "cv_score=cross_val_score(adb,X,y,cv=10)\n",
    "print(\"Accuracy:\",np.mean(cv_score))"
   ]
  },
  {
   "cell_type": "code",
   "execution_count": null,
   "metadata": {},
   "outputs": [],
   "source": []
  },
  {
   "cell_type": "markdown",
   "metadata": {},
   "source": [
    "# Accuracy of Application status for Straight through Process and Under Writing"
   ]
  },
  {
   "cell_type": "markdown",
   "metadata": {},
   "source": [
    "## 1. Decision Tree "
   ]
  },
  {
   "cell_type": "markdown",
   "metadata": {},
   "source": [
    "### 1.1 Decision Tree algorithm for Straight Through Process\n"
   ]
  },
  {
   "cell_type": "code",
   "execution_count": 2211,
   "metadata": {},
   "outputs": [
    {
     "name": "stdout",
     "output_type": "stream",
     "text": [
      "(5753, 25)\n",
      "0.9993047105857813\n",
      "[[3691    3]\n",
      " [   1 2058]]\n",
      "              precision    recall  f1-score   support\n",
      "\n",
      "           0       1.00      1.00      1.00      3694\n",
      "           1       1.00      1.00      1.00      2059\n",
      "\n",
      "    accuracy                           1.00      5753\n",
      "   macro avg       1.00      1.00      1.00      5753\n",
      "weighted avg       1.00      1.00      1.00      5753\n",
      "\n"
     ]
    }
   ],
   "source": [
    "df['QUEUE.ID'] = y_pred_dt\n",
    "new_df = df.loc[df['QUEUE.ID'] == 0]\n",
    "new_df.drop(['QUEUE.ID'],axis = 1,inplace = True)\n",
    "X = new_df.drop(['APPLICATION.STATUS'],axis = 1)\n",
    "y = new_df['APPLICATION.STATUS']  # Target Variable\n",
    "print(X.shape)\n",
    "\n",
    "# x_train, x_test, y_train, y_test = train_test_split(X, y, test_size=0.2, random_state=42)\n",
    "# print(x_train.shape, x_test.shape, y_train.shape, y_test.shape)\n",
    "dtree_stp = DecisionTreeClassifier(random_state=17,max_depth=5)\n",
    "dtree_stp.fit(X,y)\n",
    "y_pred=dtree_stp.predict(X)\n",
    "print(accuracy_score(y,y_pred))\n",
    "print(confusion_matrix(y,y_pred))\n",
    "print(classification_report(y,y_pred))"
   ]
  },
  {
   "cell_type": "markdown",
   "metadata": {},
   "source": [
    "### 1.2 Accuracy of Decision Tree algorithm for Under Writing"
   ]
  },
  {
   "cell_type": "code",
   "execution_count": 2212,
   "metadata": {},
   "outputs": [
    {
     "name": "stdout",
     "output_type": "stream",
     "text": [
      "(2006, 25)\n",
      "0.9995014955134596\n",
      "[[ 742    1]\n",
      " [   0 1263]]\n",
      "              precision    recall  f1-score   support\n",
      "\n",
      "           0       1.00      1.00      1.00       743\n",
      "           1       1.00      1.00      1.00      1263\n",
      "\n",
      "    accuracy                           1.00      2006\n",
      "   macro avg       1.00      1.00      1.00      2006\n",
      "weighted avg       1.00      1.00      1.00      2006\n",
      "\n"
     ]
    }
   ],
   "source": [
    "# Accuracy  of Under Writing\n",
    "new_df = df.loc[df['QUEUE.ID'] == 1] # Under Writing\n",
    "new_df.drop(['QUEUE.ID'],axis = 1,inplace = True)\n",
    "X = new_df.drop(['APPLICATION.STATUS'],axis = 1)\n",
    "y = new_df['APPLICATION.STATUS']\n",
    "\n",
    "print(X.shape)\n",
    "\n",
    "# x_train, x_test, y_train, y_test = train_test_split(X, y, test_size=0.2, random_state=42)\n",
    "\n",
    "dtree_uw = DecisionTreeClassifier(random_state=17,max_depth=5)\n",
    "dtree_uw.fit(X,y)\n",
    "y_pred=dtree_uw.predict(X)\n",
    "print(accuracy_score(y,y_pred))\n",
    "print(confusion_matrix(y,y_pred))\n",
    "print(classification_report(y,y_pred))"
   ]
  },
  {
   "cell_type": "markdown",
   "metadata": {},
   "source": [
    "## 2. Random Forest CLassifier"
   ]
  },
  {
   "cell_type": "markdown",
   "metadata": {},
   "source": [
    "### 2.1 Random Forest Algorithm for Straight through process"
   ]
  },
  {
   "cell_type": "code",
   "execution_count": 2269,
   "metadata": {},
   "outputs": [
    {
     "name": "stdout",
     "output_type": "stream",
     "text": [
      "(5372, 25)\n",
      "0.9998138495904692\n",
      "[[3454    0]\n",
      " [   1 1917]]\n",
      "              precision    recall  f1-score   support\n",
      "\n",
      "           0       1.00      1.00      1.00      3454\n",
      "           1       1.00      1.00      1.00      1918\n",
      "\n",
      "    accuracy                           1.00      5372\n",
      "   macro avg       1.00      1.00      1.00      5372\n",
      "weighted avg       1.00      1.00      1.00      5372\n",
      "\n"
     ]
    }
   ],
   "source": [
    "df['QUEUE.ID'] = y_pred_rfc\n",
    "new_df = df.loc[df['QUEUE.ID'] == 0] # Straight  Through Process\n",
    "new_df.drop(['QUEUE.ID'],axis = 1,inplace = True)\n",
    "X = new_df.drop(['APPLICATION.STATUS'],axis = 1)\n",
    "y = new_df['APPLICATION.STATUS']\n",
    "print(X.shape)\n",
    "\n",
    "rfc_stp = RandomForestClassifier()\n",
    "rfc_stp.fit(X,y)\n",
    "y_pred= rfc_stp.predict(X)\n",
    "\n",
    "print(accuracy_score(y,y_pred))\n",
    "print(confusion_matrix(y,y_pred))\n",
    "print(classification_report(y,y_pred))"
   ]
  },
  {
   "cell_type": "markdown",
   "metadata": {},
   "source": [
    "### 2.2 Random Forest algorithm for Under Writing\n"
   ]
  },
  {
   "cell_type": "code",
   "execution_count": 2279,
   "metadata": {},
   "outputs": [
    {
     "name": "stdout",
     "output_type": "stream",
     "text": [
      "(2387, 25)\n",
      "1.0\n",
      "[[ 983    0]\n",
      " [   0 1404]]\n",
      "              precision    recall  f1-score   support\n",
      "\n",
      "           0       1.00      1.00      1.00       983\n",
      "           1       1.00      1.00      1.00      1404\n",
      "\n",
      "    accuracy                           1.00      2387\n",
      "   macro avg       1.00      1.00      1.00      2387\n",
      "weighted avg       1.00      1.00      1.00      2387\n",
      "\n"
     ]
    }
   ],
   "source": [
    "new_df = df.loc[df['QUEUE.ID'] == 1] # Under Writing \n",
    "new_df.drop(['QUEUE.ID'],axis = 1,inplace = True)\n",
    "X = new_df.drop(['APPLICATION.STATUS'],axis = 1)\n",
    "y = new_df['APPLICATION.STATUS']\n",
    "print(X.shape)\n",
    "\n",
    "rfc_uw = RandomForestClassifier()\n",
    "rfc_uw.fit(X,y)\n",
    "y_pred= rfc_uw.predict(X)\n",
    "\n",
    "print(accuracy_score(y,y_pred))\n",
    "print(confusion_matrix(y,y_pred))\n",
    "print(classification_report(y,y_pred))"
   ]
  },
  {
   "cell_type": "code",
   "execution_count": 2282,
   "metadata": {},
   "outputs": [],
   "source": [
    "current_path = os.getcwd()\n",
    "file_path=os.path.join(current_path,'model','loan_predict.pkl')\n",
    "file=open(file_path,\"wb\")\n",
    "pickle.dump([rfc,rfc_stp,rfc_uw],file)"
   ]
  },
  {
   "cell_type": "markdown",
   "metadata": {},
   "source": [
    "# Model Application on Given Testing Dataset:"
   ]
  },
  {
   "cell_type": "code",
   "execution_count": 2215,
   "metadata": {},
   "outputs": [
    {
     "data": {
      "text/plain": [
       "(19189, 46)"
      ]
     },
     "execution_count": 2215,
     "metadata": {},
     "output_type": "execute_result"
    }
   ],
   "source": [
    "test_df = pd.read_csv('dataset/Lending_TEST_DATA.csv')\n",
    "test_df.shape"
   ]
  },
  {
   "cell_type": "code",
   "execution_count": null,
   "metadata": {},
   "outputs": [],
   "source": []
  },
  {
   "cell_type": "code",
   "execution_count": 2148,
   "metadata": {},
   "outputs": [
    {
     "data": {
      "text/plain": [
       "1    10199\n",
       "0     8990\n",
       "Name: APPLICATION.STATUS, dtype: int64"
      ]
     },
     "execution_count": 2148,
     "metadata": {},
     "output_type": "execute_result"
    }
   ],
   "source": [
    "# Approved amount is used only for calculating accuracy \n",
    "test_df['APPROVED.AMOUNT']\n",
    "test_df.loc[test_df['APPROVED.AMOUNT'] > 1, 'APPROVED.AMOUNT'] = 0\n",
    "\n",
    "## Fill all NaN values by 0\n",
    "test_df['APPLICATION.STATUS'] = test_df['APPROVED.AMOUNT'].fillna(1).astype('int')\n",
    "test_df['APPLICATION.STATUS'].value_counts()  \n",
    " "
   ]
  },
  {
   "cell_type": "code",
   "execution_count": 2149,
   "metadata": {},
   "outputs": [],
   "source": [
    "features_drop = ['APPLICATION.ID','DSA.ID','DEALER.ID','APP.DATE','TIME.STAMP','CITY',\n",
    "                'STATE','ZIP.CODE','CREDIT.CARDS.CATEGORY','TRADER.BUSINESS.PROOF',\n",
    "                'PRIMARY.ASSET.MODELNO','CAR.CATEGORY','DEDUPE.REF.ID1','LOAN.TYPE']\n",
    "\n",
    "test_df.drop(features_drop,axis = 1,inplace=True)"
   ]
  },
  {
   "cell_type": "code",
   "execution_count": 2150,
   "metadata": {},
   "outputs": [],
   "source": [
    "features_drop = ['NET.TAKE.HOME.SALARY','HOUSE.SURROGATE.DOCUMENT.TYPE','APPROVED.AMOUNT',\n",
    "                'NAME.SCORE','TRADER.YEAR.IN.BUSINESS']\n",
    "\n",
    "test_df.drop(features_drop,axis = 1,inplace=True)"
   ]
  },
  {
   "cell_type": "code",
   "execution_count": 2151,
   "metadata": {},
   "outputs": [
    {
     "data": {
      "text/plain": [
       "0"
      ]
     },
     "execution_count": 2151,
     "metadata": {},
     "output_type": "execute_result"
    }
   ],
   "source": [
    "most_frequent_category = test_df['PAN.STATUS'].mode()[0]\n",
    "test_df['PAN.STATUS'] = test_df['PAN.STATUS'].fillna(most_frequent_category)\n",
    "test_df['PAN.STATUS'].isna().sum()\n"
   ]
  },
  {
   "cell_type": "code",
   "execution_count": 2152,
   "metadata": {},
   "outputs": [],
   "source": [
    "test_df.loc[test_df['CREDIT.CARD.NUMBER'] > 1, 'CREDIT.CARD.NUMBER'] = 1\n",
    "test_df['CREDIT.CARD.NUMBER'] = test_df['CREDIT.CARD.NUMBER'].fillna(0).astype('int')\n"
   ]
  },
  {
   "cell_type": "code",
   "execution_count": 2153,
   "metadata": {},
   "outputs": [],
   "source": [
    "test_df.loc[test_df['APPLICATION.SCORE'] == '-', 'APPLICATION.SCORE'] = 0\n",
    "test_df.loc[test_df['APPLICATION.SCORE'] == 'RENGANATHAN MOHAN ', 'APPLICATION.SCORE'] = 0\n",
    "test_df['APPLICATION.SCORE'] = test_df['APPLICATION.SCORE'].astype('float')"
   ]
  },
  {
   "cell_type": "code",
   "execution_count": 2154,
   "metadata": {},
   "outputs": [
    {
     "name": "stdout",
     "output_type": "stream",
     "text": [
      "0                 5024\n",
      "0.0                874\n",
      "NOT_AUTHORIZED     566\n",
      "66.67               52\n",
      "75                  41\n",
      "                  ... \n",
      "62.7                 1\n",
      "46.61                1\n",
      "78.75                1\n",
      "63.13                1\n",
      "59.2                 1\n",
      "Name: OFFICE.ADDRESS.SCORE, Length: 3939, dtype: int64\n"
     ]
    }
   ],
   "source": [
    "print(test_df['OFFICE.ADDRESS.SCORE'].value_counts())\n",
    "test_df1 = test_df['OFFICE.ADDRESS.SCORE'].replace('NOT_AUTHORIZED',np.nan).astype('float')\n",
    "test_df2 = test_df['RESIDENTIAL.ADDRESS.SCORE'].replace('NOT_AUTHORIZED',np.nan).astype('float')\n",
    "test_df['OFFICE.ADDRESS.SCORE'] = test_df1.fillna(test_df1.mean()).astype('float')\n",
    "test_df['RESIDENTIAL.ADDRESS.SCORE'] =  test_df2.fillna(test_df2.mean()).astype('float')"
   ]
  },
  {
   "cell_type": "code",
   "execution_count": 2155,
   "metadata": {},
   "outputs": [],
   "source": [
    "test_df['APPLICATION.SCORE'].isnull().sum()\n",
    "test_df['APPLICATION.SCORE'] = test_df['APPLICATION.SCORE'].fillna(0)"
   ]
  },
  {
   "cell_type": "code",
   "execution_count": 2156,
   "metadata": {},
   "outputs": [],
   "source": [
    "test_df1 = test_df['CIBIL.SCORE'].replace({'0':0,'-':1,'000-1':2}).astype('float')\n",
    "test_df['CIBIL.SCORE'] = test_df1.fillna(test_df1.mean())"
   ]
  },
  {
   "cell_type": "code",
   "execution_count": 2157,
   "metadata": {},
   "outputs": [
    {
     "data": {
      "text/html": [
       "<div>\n",
       "<style scoped>\n",
       "    .dataframe tbody tr th:only-of-type {\n",
       "        vertical-align: middle;\n",
       "    }\n",
       "\n",
       "    .dataframe tbody tr th {\n",
       "        vertical-align: top;\n",
       "    }\n",
       "\n",
       "    .dataframe thead th {\n",
       "        text-align: right;\n",
       "    }\n",
       "</style>\n",
       "<table border=\"1\" class=\"dataframe\">\n",
       "  <thead>\n",
       "    <tr style=\"text-align: right;\">\n",
       "      <th></th>\n",
       "      <th>0</th>\n",
       "      <th>1</th>\n",
       "      <th>2</th>\n",
       "      <th>3</th>\n",
       "      <th>4</th>\n",
       "    </tr>\n",
       "  </thead>\n",
       "  <tbody>\n",
       "    <tr>\n",
       "      <th>APPLICATION.STATUS</th>\n",
       "      <td>0.0</td>\n",
       "      <td>0.00</td>\n",
       "      <td>1.00</td>\n",
       "      <td>0.0</td>\n",
       "      <td>0.0</td>\n",
       "    </tr>\n",
       "    <tr>\n",
       "      <th>QUEUE.ID</th>\n",
       "      <td>0.0</td>\n",
       "      <td>0.00</td>\n",
       "      <td>0.00</td>\n",
       "      <td>0.0</td>\n",
       "      <td>0.0</td>\n",
       "    </tr>\n",
       "    <tr>\n",
       "      <th>CURRENT.STAGE</th>\n",
       "      <td>7.0</td>\n",
       "      <td>7.00</td>\n",
       "      <td>2.00</td>\n",
       "      <td>7.0</td>\n",
       "      <td>3.0</td>\n",
       "    </tr>\n",
       "    <tr>\n",
       "      <th>MARITAL.STATUS</th>\n",
       "      <td>0.0</td>\n",
       "      <td>0.00</td>\n",
       "      <td>0.00</td>\n",
       "      <td>0.0</td>\n",
       "      <td>1.0</td>\n",
       "    </tr>\n",
       "    <tr>\n",
       "      <th>GENDER</th>\n",
       "      <td>1.0</td>\n",
       "      <td>1.00</td>\n",
       "      <td>1.00</td>\n",
       "      <td>1.0</td>\n",
       "      <td>1.0</td>\n",
       "    </tr>\n",
       "    <tr>\n",
       "      <th>AGE</th>\n",
       "      <td>29.0</td>\n",
       "      <td>48.00</td>\n",
       "      <td>33.00</td>\n",
       "      <td>31.0</td>\n",
       "      <td>24.0</td>\n",
       "    </tr>\n",
       "    <tr>\n",
       "      <th>EDUCATION</th>\n",
       "      <td>5.0</td>\n",
       "      <td>5.00</td>\n",
       "      <td>2.00</td>\n",
       "      <td>5.0</td>\n",
       "      <td>5.0</td>\n",
       "    </tr>\n",
       "    <tr>\n",
       "      <th>RESIDENCE.TYPE</th>\n",
       "      <td>10.0</td>\n",
       "      <td>3.00</td>\n",
       "      <td>2.00</td>\n",
       "      <td>2.0</td>\n",
       "      <td>12.0</td>\n",
       "    </tr>\n",
       "    <tr>\n",
       "      <th>EMPLOY.CONSTITUTION</th>\n",
       "      <td>3.0</td>\n",
       "      <td>3.00</td>\n",
       "      <td>3.00</td>\n",
       "      <td>2.0</td>\n",
       "      <td>2.0</td>\n",
       "    </tr>\n",
       "    <tr>\n",
       "      <th>PAN.STATUS</th>\n",
       "      <td>3.0</td>\n",
       "      <td>3.00</td>\n",
       "      <td>3.00</td>\n",
       "      <td>0.0</td>\n",
       "      <td>0.0</td>\n",
       "    </tr>\n",
       "    <tr>\n",
       "      <th>CIBIL.SCORE</th>\n",
       "      <td>776.0</td>\n",
       "      <td>796.00</td>\n",
       "      <td>0.00</td>\n",
       "      <td>817.0</td>\n",
       "      <td>804.0</td>\n",
       "    </tr>\n",
       "    <tr>\n",
       "      <th>APPLICATION.SCORE</th>\n",
       "      <td>65.0</td>\n",
       "      <td>60.00</td>\n",
       "      <td>38.00</td>\n",
       "      <td>73.0</td>\n",
       "      <td>115.0</td>\n",
       "    </tr>\n",
       "    <tr>\n",
       "      <th>RESIDENTIAL.ADDRESS.SCORE</th>\n",
       "      <td>0.0</td>\n",
       "      <td>76.47</td>\n",
       "      <td>87.80</td>\n",
       "      <td>84.0</td>\n",
       "      <td>0.0</td>\n",
       "    </tr>\n",
       "    <tr>\n",
       "      <th>OFFICE.ADDRESS.SCORE</th>\n",
       "      <td>0.0</td>\n",
       "      <td>88.03</td>\n",
       "      <td>64.52</td>\n",
       "      <td>0.0</td>\n",
       "      <td>0.0</td>\n",
       "    </tr>\n",
       "    <tr>\n",
       "      <th>ASSET.MAKE</th>\n",
       "      <td>26.0</td>\n",
       "      <td>37.00</td>\n",
       "      <td>51.00</td>\n",
       "      <td>26.0</td>\n",
       "      <td>21.0</td>\n",
       "    </tr>\n",
       "    <tr>\n",
       "      <th>ASSET.CTG</th>\n",
       "      <td>38.0</td>\n",
       "      <td>29.00</td>\n",
       "      <td>51.00</td>\n",
       "      <td>0.0</td>\n",
       "      <td>21.0</td>\n",
       "    </tr>\n",
       "    <tr>\n",
       "      <th>APPLIED.AMOUNT</th>\n",
       "      <td>20000.0</td>\n",
       "      <td>17400.00</td>\n",
       "      <td>32000.00</td>\n",
       "      <td>35300.0</td>\n",
       "      <td>40600.0</td>\n",
       "    </tr>\n",
       "    <tr>\n",
       "      <th>LOAN.TENOR</th>\n",
       "      <td>10.0</td>\n",
       "      <td>12.00</td>\n",
       "      <td>12.00</td>\n",
       "      <td>10.0</td>\n",
       "      <td>10.0</td>\n",
       "    </tr>\n",
       "    <tr>\n",
       "      <th>OWN.HOUSE.TYPE</th>\n",
       "      <td>4.0</td>\n",
       "      <td>2.00</td>\n",
       "      <td>2.00</td>\n",
       "      <td>1.0</td>\n",
       "      <td>4.0</td>\n",
       "    </tr>\n",
       "    <tr>\n",
       "      <th>CREDIT.CARD.NUMBER</th>\n",
       "      <td>0.0</td>\n",
       "      <td>0.00</td>\n",
       "      <td>0.00</td>\n",
       "      <td>0.0</td>\n",
       "      <td>0.0</td>\n",
       "    </tr>\n",
       "    <tr>\n",
       "      <th>PRIMARY.ASSET.CTG</th>\n",
       "      <td>45.0</td>\n",
       "      <td>45.00</td>\n",
       "      <td>23.00</td>\n",
       "      <td>0.0</td>\n",
       "      <td>48.0</td>\n",
       "    </tr>\n",
       "    <tr>\n",
       "      <th>PRIMARY.ASSET.MAKE</th>\n",
       "      <td>30.0</td>\n",
       "      <td>59.00</td>\n",
       "      <td>39.00</td>\n",
       "      <td>30.0</td>\n",
       "      <td>24.0</td>\n",
       "    </tr>\n",
       "    <tr>\n",
       "      <th>VOTER_ID</th>\n",
       "      <td>0.0</td>\n",
       "      <td>0.00</td>\n",
       "      <td>0.00</td>\n",
       "      <td>0.0</td>\n",
       "      <td>0.0</td>\n",
       "    </tr>\n",
       "    <tr>\n",
       "      <th>DRIVING_LICENSE</th>\n",
       "      <td>0.0</td>\n",
       "      <td>0.00</td>\n",
       "      <td>0.00</td>\n",
       "      <td>0.0</td>\n",
       "      <td>0.0</td>\n",
       "    </tr>\n",
       "    <tr>\n",
       "      <th>AADHAAR</th>\n",
       "      <td>1.0</td>\n",
       "      <td>1.00</td>\n",
       "      <td>1.00</td>\n",
       "      <td>0.0</td>\n",
       "      <td>1.0</td>\n",
       "    </tr>\n",
       "    <tr>\n",
       "      <th>PAN</th>\n",
       "      <td>0.0</td>\n",
       "      <td>0.00</td>\n",
       "      <td>0.00</td>\n",
       "      <td>1.0</td>\n",
       "      <td>1.0</td>\n",
       "    </tr>\n",
       "    <tr>\n",
       "      <th>BANK_PASSBOOK</th>\n",
       "      <td>0.0</td>\n",
       "      <td>1.00</td>\n",
       "      <td>0.00</td>\n",
       "      <td>0.0</td>\n",
       "      <td>0.0</td>\n",
       "    </tr>\n",
       "  </tbody>\n",
       "</table>\n",
       "</div>"
      ],
      "text/plain": [
       "                                 0         1         2        3        4\n",
       "APPLICATION.STATUS             0.0      0.00      1.00      0.0      0.0\n",
       "QUEUE.ID                       0.0      0.00      0.00      0.0      0.0\n",
       "CURRENT.STAGE                  7.0      7.00      2.00      7.0      3.0\n",
       "MARITAL.STATUS                 0.0      0.00      0.00      0.0      1.0\n",
       "GENDER                         1.0      1.00      1.00      1.0      1.0\n",
       "AGE                           29.0     48.00     33.00     31.0     24.0\n",
       "EDUCATION                      5.0      5.00      2.00      5.0      5.0\n",
       "RESIDENCE.TYPE                10.0      3.00      2.00      2.0     12.0\n",
       "EMPLOY.CONSTITUTION            3.0      3.00      3.00      2.0      2.0\n",
       "PAN.STATUS                     3.0      3.00      3.00      0.0      0.0\n",
       "CIBIL.SCORE                  776.0    796.00      0.00    817.0    804.0\n",
       "APPLICATION.SCORE             65.0     60.00     38.00     73.0    115.0\n",
       "RESIDENTIAL.ADDRESS.SCORE      0.0     76.47     87.80     84.0      0.0\n",
       "OFFICE.ADDRESS.SCORE           0.0     88.03     64.52      0.0      0.0\n",
       "ASSET.MAKE                    26.0     37.00     51.00     26.0     21.0\n",
       "ASSET.CTG                     38.0     29.00     51.00      0.0     21.0\n",
       "APPLIED.AMOUNT             20000.0  17400.00  32000.00  35300.0  40600.0\n",
       "LOAN.TENOR                    10.0     12.00     12.00     10.0     10.0\n",
       "OWN.HOUSE.TYPE                 4.0      2.00      2.00      1.0      4.0\n",
       "CREDIT.CARD.NUMBER             0.0      0.00      0.00      0.0      0.0\n",
       "PRIMARY.ASSET.CTG             45.0     45.00     23.00      0.0     48.0\n",
       "PRIMARY.ASSET.MAKE            30.0     59.00     39.00     30.0     24.0\n",
       "VOTER_ID                       0.0      0.00      0.00      0.0      0.0\n",
       "DRIVING_LICENSE                0.0      0.00      0.00      0.0      0.0\n",
       "AADHAAR                        1.0      1.00      1.00      0.0      1.0\n",
       "PAN                            0.0      0.00      0.00      1.0      1.0\n",
       "BANK_PASSBOOK                  0.0      1.00      0.00      0.0      0.0"
      ]
     },
     "execution_count": 2157,
     "metadata": {},
     "output_type": "execute_result"
    }
   ],
   "source": [
    "# Binary Features\n",
    "cat_features_binary = ['APPLICATION.STATUS','QUEUE.ID','GENDER',\n",
    "                'MARITAL.STATUS','VOTER_ID','DRIVING_LICENSE','AADHAAR','PAN','BANK_PASSBOOK']\n",
    "\n",
    "le=LabelEncoder()\n",
    "for feature in cat_features_binary:\n",
    "    test_df[feature]=le.fit_transform(test_df[feature])\n",
    "test_df.head().T\n",
    "\n",
    "# Multiple categorical features\n",
    "\n",
    "cat_features = ['EMPLOY.CONSTITUTION','EDUCATION','CURRENT.STAGE','RESIDENCE.TYPE',\n",
    "                'PAN.STATUS','OWN.HOUSE.TYPE','PRIMARY.ASSET.CTG','PRIMARY.ASSET.MAKE','ASSET.MAKE','ASSET.CTG']\n",
    "for feature in cat_features:\n",
    "    test_df[feature]=le.fit_transform(test_df[feature])\n",
    "test_df.head().T"
   ]
  },
  {
   "cell_type": "markdown",
   "metadata": {},
   "source": [
    "# Model Accuracy on new data"
   ]
  },
  {
   "cell_type": "code",
   "execution_count": 2158,
   "metadata": {},
   "outputs": [
    {
     "data": {
      "text/html": [
       "<div>\n",
       "<style scoped>\n",
       "    .dataframe tbody tr th:only-of-type {\n",
       "        vertical-align: middle;\n",
       "    }\n",
       "\n",
       "    .dataframe tbody tr th {\n",
       "        vertical-align: top;\n",
       "    }\n",
       "\n",
       "    .dataframe thead th {\n",
       "        text-align: right;\n",
       "    }\n",
       "</style>\n",
       "<table border=\"1\" class=\"dataframe\">\n",
       "  <thead>\n",
       "    <tr style=\"text-align: right;\">\n",
       "      <th></th>\n",
       "      <th>0</th>\n",
       "      <th>1</th>\n",
       "      <th>2</th>\n",
       "      <th>3</th>\n",
       "      <th>4</th>\n",
       "    </tr>\n",
       "  </thead>\n",
       "  <tbody>\n",
       "    <tr>\n",
       "      <th>CURRENT.STAGE</th>\n",
       "      <td>7.0</td>\n",
       "      <td>7.00</td>\n",
       "      <td>2.00</td>\n",
       "      <td>7.0</td>\n",
       "      <td>3.0</td>\n",
       "    </tr>\n",
       "    <tr>\n",
       "      <th>MARITAL.STATUS</th>\n",
       "      <td>0.0</td>\n",
       "      <td>0.00</td>\n",
       "      <td>0.00</td>\n",
       "      <td>0.0</td>\n",
       "      <td>1.0</td>\n",
       "    </tr>\n",
       "    <tr>\n",
       "      <th>GENDER</th>\n",
       "      <td>1.0</td>\n",
       "      <td>1.00</td>\n",
       "      <td>1.00</td>\n",
       "      <td>1.0</td>\n",
       "      <td>1.0</td>\n",
       "    </tr>\n",
       "    <tr>\n",
       "      <th>AGE</th>\n",
       "      <td>29.0</td>\n",
       "      <td>48.00</td>\n",
       "      <td>33.00</td>\n",
       "      <td>31.0</td>\n",
       "      <td>24.0</td>\n",
       "    </tr>\n",
       "    <tr>\n",
       "      <th>EDUCATION</th>\n",
       "      <td>5.0</td>\n",
       "      <td>5.00</td>\n",
       "      <td>2.00</td>\n",
       "      <td>5.0</td>\n",
       "      <td>5.0</td>\n",
       "    </tr>\n",
       "    <tr>\n",
       "      <th>RESIDENCE.TYPE</th>\n",
       "      <td>10.0</td>\n",
       "      <td>3.00</td>\n",
       "      <td>2.00</td>\n",
       "      <td>2.0</td>\n",
       "      <td>12.0</td>\n",
       "    </tr>\n",
       "    <tr>\n",
       "      <th>EMPLOY.CONSTITUTION</th>\n",
       "      <td>3.0</td>\n",
       "      <td>3.00</td>\n",
       "      <td>3.00</td>\n",
       "      <td>2.0</td>\n",
       "      <td>2.0</td>\n",
       "    </tr>\n",
       "    <tr>\n",
       "      <th>PAN.STATUS</th>\n",
       "      <td>3.0</td>\n",
       "      <td>3.00</td>\n",
       "      <td>3.00</td>\n",
       "      <td>0.0</td>\n",
       "      <td>0.0</td>\n",
       "    </tr>\n",
       "    <tr>\n",
       "      <th>CIBIL.SCORE</th>\n",
       "      <td>776.0</td>\n",
       "      <td>796.00</td>\n",
       "      <td>0.00</td>\n",
       "      <td>817.0</td>\n",
       "      <td>804.0</td>\n",
       "    </tr>\n",
       "    <tr>\n",
       "      <th>APPLICATION.SCORE</th>\n",
       "      <td>65.0</td>\n",
       "      <td>60.00</td>\n",
       "      <td>38.00</td>\n",
       "      <td>73.0</td>\n",
       "      <td>115.0</td>\n",
       "    </tr>\n",
       "    <tr>\n",
       "      <th>RESIDENTIAL.ADDRESS.SCORE</th>\n",
       "      <td>0.0</td>\n",
       "      <td>76.47</td>\n",
       "      <td>87.80</td>\n",
       "      <td>84.0</td>\n",
       "      <td>0.0</td>\n",
       "    </tr>\n",
       "    <tr>\n",
       "      <th>OFFICE.ADDRESS.SCORE</th>\n",
       "      <td>0.0</td>\n",
       "      <td>88.03</td>\n",
       "      <td>64.52</td>\n",
       "      <td>0.0</td>\n",
       "      <td>0.0</td>\n",
       "    </tr>\n",
       "    <tr>\n",
       "      <th>ASSET.MAKE</th>\n",
       "      <td>26.0</td>\n",
       "      <td>37.00</td>\n",
       "      <td>51.00</td>\n",
       "      <td>26.0</td>\n",
       "      <td>21.0</td>\n",
       "    </tr>\n",
       "    <tr>\n",
       "      <th>ASSET.CTG</th>\n",
       "      <td>38.0</td>\n",
       "      <td>29.00</td>\n",
       "      <td>51.00</td>\n",
       "      <td>0.0</td>\n",
       "      <td>21.0</td>\n",
       "    </tr>\n",
       "    <tr>\n",
       "      <th>APPLIED.AMOUNT</th>\n",
       "      <td>20000.0</td>\n",
       "      <td>17400.00</td>\n",
       "      <td>32000.00</td>\n",
       "      <td>35300.0</td>\n",
       "      <td>40600.0</td>\n",
       "    </tr>\n",
       "    <tr>\n",
       "      <th>LOAN.TENOR</th>\n",
       "      <td>10.0</td>\n",
       "      <td>12.00</td>\n",
       "      <td>12.00</td>\n",
       "      <td>10.0</td>\n",
       "      <td>10.0</td>\n",
       "    </tr>\n",
       "    <tr>\n",
       "      <th>OWN.HOUSE.TYPE</th>\n",
       "      <td>4.0</td>\n",
       "      <td>2.00</td>\n",
       "      <td>2.00</td>\n",
       "      <td>1.0</td>\n",
       "      <td>4.0</td>\n",
       "    </tr>\n",
       "    <tr>\n",
       "      <th>CREDIT.CARD.NUMBER</th>\n",
       "      <td>0.0</td>\n",
       "      <td>0.00</td>\n",
       "      <td>0.00</td>\n",
       "      <td>0.0</td>\n",
       "      <td>0.0</td>\n",
       "    </tr>\n",
       "    <tr>\n",
       "      <th>PRIMARY.ASSET.CTG</th>\n",
       "      <td>45.0</td>\n",
       "      <td>45.00</td>\n",
       "      <td>23.00</td>\n",
       "      <td>0.0</td>\n",
       "      <td>48.0</td>\n",
       "    </tr>\n",
       "    <tr>\n",
       "      <th>PRIMARY.ASSET.MAKE</th>\n",
       "      <td>30.0</td>\n",
       "      <td>59.00</td>\n",
       "      <td>39.00</td>\n",
       "      <td>30.0</td>\n",
       "      <td>24.0</td>\n",
       "    </tr>\n",
       "    <tr>\n",
       "      <th>VOTER_ID</th>\n",
       "      <td>0.0</td>\n",
       "      <td>0.00</td>\n",
       "      <td>0.00</td>\n",
       "      <td>0.0</td>\n",
       "      <td>0.0</td>\n",
       "    </tr>\n",
       "    <tr>\n",
       "      <th>DRIVING_LICENSE</th>\n",
       "      <td>0.0</td>\n",
       "      <td>0.00</td>\n",
       "      <td>0.00</td>\n",
       "      <td>0.0</td>\n",
       "      <td>0.0</td>\n",
       "    </tr>\n",
       "    <tr>\n",
       "      <th>AADHAAR</th>\n",
       "      <td>1.0</td>\n",
       "      <td>1.00</td>\n",
       "      <td>1.00</td>\n",
       "      <td>0.0</td>\n",
       "      <td>1.0</td>\n",
       "    </tr>\n",
       "    <tr>\n",
       "      <th>PAN</th>\n",
       "      <td>0.0</td>\n",
       "      <td>0.00</td>\n",
       "      <td>0.00</td>\n",
       "      <td>1.0</td>\n",
       "      <td>1.0</td>\n",
       "    </tr>\n",
       "    <tr>\n",
       "      <th>BANK_PASSBOOK</th>\n",
       "      <td>0.0</td>\n",
       "      <td>1.00</td>\n",
       "      <td>0.00</td>\n",
       "      <td>0.0</td>\n",
       "      <td>0.0</td>\n",
       "    </tr>\n",
       "  </tbody>\n",
       "</table>\n",
       "</div>"
      ],
      "text/plain": [
       "                                 0         1         2        3        4\n",
       "CURRENT.STAGE                  7.0      7.00      2.00      7.0      3.0\n",
       "MARITAL.STATUS                 0.0      0.00      0.00      0.0      1.0\n",
       "GENDER                         1.0      1.00      1.00      1.0      1.0\n",
       "AGE                           29.0     48.00     33.00     31.0     24.0\n",
       "EDUCATION                      5.0      5.00      2.00      5.0      5.0\n",
       "RESIDENCE.TYPE                10.0      3.00      2.00      2.0     12.0\n",
       "EMPLOY.CONSTITUTION            3.0      3.00      3.00      2.0      2.0\n",
       "PAN.STATUS                     3.0      3.00      3.00      0.0      0.0\n",
       "CIBIL.SCORE                  776.0    796.00      0.00    817.0    804.0\n",
       "APPLICATION.SCORE             65.0     60.00     38.00     73.0    115.0\n",
       "RESIDENTIAL.ADDRESS.SCORE      0.0     76.47     87.80     84.0      0.0\n",
       "OFFICE.ADDRESS.SCORE           0.0     88.03     64.52      0.0      0.0\n",
       "ASSET.MAKE                    26.0     37.00     51.00     26.0     21.0\n",
       "ASSET.CTG                     38.0     29.00     51.00      0.0     21.0\n",
       "APPLIED.AMOUNT             20000.0  17400.00  32000.00  35300.0  40600.0\n",
       "LOAN.TENOR                    10.0     12.00     12.00     10.0     10.0\n",
       "OWN.HOUSE.TYPE                 4.0      2.00      2.00      1.0      4.0\n",
       "CREDIT.CARD.NUMBER             0.0      0.00      0.00      0.0      0.0\n",
       "PRIMARY.ASSET.CTG             45.0     45.00     23.00      0.0     48.0\n",
       "PRIMARY.ASSET.MAKE            30.0     59.00     39.00     30.0     24.0\n",
       "VOTER_ID                       0.0      0.00      0.00      0.0      0.0\n",
       "DRIVING_LICENSE                0.0      0.00      0.00      0.0      0.0\n",
       "AADHAAR                        1.0      1.00      1.00      0.0      1.0\n",
       "PAN                            0.0      0.00      0.00      1.0      1.0\n",
       "BANK_PASSBOOK                  0.0      1.00      0.00      0.0      0.0"
      ]
     },
     "execution_count": 2158,
     "metadata": {},
     "output_type": "execute_result"
    }
   ],
   "source": [
    "test_X = test_df.drop(['QUEUE.ID','APPLICATION.STATUS'],axis = 1)\n",
    "test_y = test_df['QUEUE.ID']\n",
    "test_X.head().T\n"
   ]
  },
  {
   "cell_type": "markdown",
   "metadata": {},
   "source": [
    "## 1. Random Forest Algorithm Accuracy"
   ]
  },
  {
   "cell_type": "code",
   "execution_count": 2173,
   "metadata": {},
   "outputs": [
    {
     "name": "stdout",
     "output_type": "stream",
     "text": [
      "(19189, 25) (19189,)\n",
      "0.9941633227369847\n",
      "[[13965    29]\n",
      " [   83  5112]]\n",
      "              precision    recall  f1-score   support\n",
      "\n",
      "           0       0.99      1.00      1.00     13994\n",
      "           1       0.99      0.98      0.99      5195\n",
      "\n",
      "    accuracy                           0.99     19189\n",
      "   macro avg       0.99      0.99      0.99     19189\n",
      "weighted avg       0.99      0.99      0.99     19189\n",
      "\n"
     ]
    }
   ],
   "source": [
    "x_test = test_X.copy()\n",
    "y_test = test_y\n",
    "print(x_test.shape,y_test.shape)\n",
    "y_pred_rf = rfc.predict(x_test)\n",
    "\n",
    "print(accuracy_score(y_test,y_pred_rf))\n",
    "print(confusion_matrix(y_test,y_pred_rf))\n",
    "print(classification_report(y_test,y_pred_rf))\n"
   ]
  },
  {
   "cell_type": "code",
   "execution_count": 2160,
   "metadata": {},
   "outputs": [],
   "source": []
  },
  {
   "cell_type": "markdown",
   "metadata": {},
   "source": [
    "## Accuracy  of Straight Through Process using Random Forest"
   ]
  },
  {
   "cell_type": "code",
   "execution_count": 2161,
   "metadata": {},
   "outputs": [
    {
     "name": "stdout",
     "output_type": "stream",
     "text": [
      "(13994, 27)\n",
      "(13994, 25) (13994,)\n",
      "0.895883950264399\n",
      "[[7374   11]\n",
      " [1446 5163]]\n",
      "              precision    recall  f1-score   support\n",
      "\n",
      "           0       0.84      1.00      0.91      7385\n",
      "           1       1.00      0.78      0.88      6609\n",
      "\n",
      "    accuracy                           0.90     13994\n",
      "   macro avg       0.92      0.89      0.89     13994\n",
      "weighted avg       0.91      0.90      0.89     13994\n",
      "\n"
     ]
    }
   ],
   "source": [
    "test_df['QUEUE.ID'] = y_pred\n",
    "new_df = test_df.loc[test_df['QUEUE.ID'] == 0] # Under Writing\n",
    "print(new_df.shape)\n",
    "new_df.drop(['QUEUE.ID'],axis = 1,inplace = True)\n",
    "X = new_df.drop(['APPLICATION.STATUS'],axis = 1)\n",
    "y = new_df['APPLICATION.STATUS']\n",
    "\n",
    "x_test = X\n",
    "y_test = y\n",
    "print(x_test.shape, y_test.shape)\n",
    "\n",
    "y_pred= rfc_stp.predict(x_test)\n",
    "\n",
    "print(accuracy_score(y_test,y_pred))\n",
    "print(confusion_matrix(y_test,y_pred))\n",
    "print(classification_report(y_test,y_pred))"
   ]
  },
  {
   "cell_type": "markdown",
   "metadata": {},
   "source": [
    "## Accuracy of Under Writing using Random Forest"
   ]
  },
  {
   "cell_type": "code",
   "execution_count": 2139,
   "metadata": {},
   "outputs": [
    {
     "name": "stdout",
     "output_type": "stream",
     "text": [
      "(6399, 27)\n",
      "(6399, 25) (6399,)\n",
      "0.9088920143772464\n",
      "[[2148   21]\n",
      " [ 562 3668]]\n",
      "              precision    recall  f1-score   support\n",
      "\n",
      "           0       0.79      0.99      0.88      2169\n",
      "           1       0.99      0.87      0.93      4230\n",
      "\n",
      "    accuracy                           0.91      6399\n",
      "   macro avg       0.89      0.93      0.90      6399\n",
      "weighted avg       0.93      0.91      0.91      6399\n",
      "\n"
     ]
    }
   ],
   "source": [
    "new_df = test_df.loc[test_df['QUEUE.ID'] == 1] # Under Writing\n",
    "print(new_df.shape)\n",
    "new_df.drop(['QUEUE.ID'],axis = 1,inplace = True)\n",
    "X = new_df.drop(['APPLICATION.STATUS'],axis = 1)\n",
    "y = new_df['APPLICATION.STATUS']\n",
    "\n",
    "x_test = X\n",
    "y_test = y\n",
    "print(x_test.shape, y_test.shape)\n",
    "\n",
    "y_pred= rfc_uw.predict(x_test)\n",
    "\n",
    "print(accuracy_score(y_test,y_pred))\n",
    "print(confusion_matrix(y_test,y_pred))\n",
    "print(classification_report(y_test,y_pred))\n"
   ]
  },
  {
   "cell_type": "code",
   "execution_count": null,
   "metadata": {},
   "outputs": [],
   "source": []
  },
  {
   "cell_type": "code",
   "execution_count": 2277,
   "metadata": {},
   "outputs": [
    {
     "name": "stdout",
     "output_type": "stream",
     "text": [
      "Testing data size is: (7759, 46)\n",
      "accuracy of Queue ID (STP or Under Writing) classification is :  97.08725351205052\n",
      "confusion matrix for Application status classification :\n",
      " [[5357   15]\n",
      " [ 211 2176]]\n",
      "accuracy of Application status for Stright Through Process is :  84.26724137931035\n",
      "confusion matrix for Stright Through Process is \n",
      " [[2755    1]\n",
      " [ 875 1937]]\n",
      "accuracy of Application status for Under Writing is :  89.6850753080785\n",
      "confusion matrix for Under Writing is \n",
      " [[ 582    0]\n",
      " [ 226 1383]]\n"
     ]
    }
   ],
   "source": [
    "def preprocess_data(test_df):\n",
    "    test_df.loc[test_df['APPROVED.AMOUNT'] > 1, 'APPROVED.AMOUNT'] = 0\n",
    "    test_df['APPLICATION.STATUS'] = test_df['APPROVED.AMOUNT'].fillna(1).astype('int')\n",
    "    features_drop = ['APPLICATION.ID','DSA.ID','DEALER.ID','APP.DATE','TIME.STAMP','CITY',\n",
    "                'STATE','ZIP.CODE','CREDIT.CARDS.CATEGORY','TRADER.BUSINESS.PROOF',\n",
    "                'PRIMARY.ASSET.MODELNO','CAR.CATEGORY','DEDUPE.REF.ID1','LOAN.TYPE']\n",
    "\n",
    "    test_df.drop(features_drop,axis = 1,inplace=True)\n",
    "    features_drop = ['NET.TAKE.HOME.SALARY','HOUSE.SURROGATE.DOCUMENT.TYPE','APPROVED.AMOUNT',\n",
    "                'NAME.SCORE','TRADER.YEAR.IN.BUSINESS']\n",
    "\n",
    "    test_df.drop(features_drop,axis = 1,inplace=True)\n",
    "    most_frequent_category = test_df['PAN.STATUS'].mode()[0]\n",
    "    test_df['PAN.STATUS'] = test_df['PAN.STATUS'].fillna(most_frequent_category)\n",
    "    test_df.loc[test_df['CREDIT.CARD.NUMBER'] > 1, 'CREDIT.CARD.NUMBER'] = 1\n",
    "    test_df['CREDIT.CARD.NUMBER'] = test_df['CREDIT.CARD.NUMBER'].fillna(0).astype('int')\n",
    "    \n",
    "    test_df.loc[test_df['APPLICATION.SCORE'] == '-', 'APPLICATION.SCORE'] = 0\n",
    "    test_df.loc[test_df['APPLICATION.SCORE'] == 'RENGANATHAN MOHAN ', 'APPLICATION.SCORE'] = 0\n",
    "    test_df['APPLICATION.SCORE'] = test_df['APPLICATION.SCORE'].astype('float')\n",
    "    test_df1 = test_df['OFFICE.ADDRESS.SCORE'].replace('NOT_AUTHORIZED',np.nan).astype('float')\n",
    "    test_df2 = test_df['RESIDENTIAL.ADDRESS.SCORE'].replace('NOT_AUTHORIZED',np.nan).astype('float')\n",
    "    test_df['OFFICE.ADDRESS.SCORE'] = test_df1.fillna(test_df1.mean()).astype('float')\n",
    "    test_df['RESIDENTIAL.ADDRESS.SCORE'] =  test_df2.fillna(test_df2.mean()).astype('float')\n",
    "    test_df['APPLICATION.SCORE'] = test_df['APPLICATION.SCORE'].fillna(0)\n",
    "    \n",
    "    test_df1 = test_df['CIBIL.SCORE'].replace({'0':0,'-':1,'000-1':2}).astype('float')\n",
    "    test_df['CIBIL.SCORE'] = test_df1.fillna(test_df1.mean())\n",
    "    \n",
    "    # Binary Features\n",
    "    cat_features_binary = ['APPLICATION.STATUS','QUEUE.ID','GENDER',\n",
    "                    'MARITAL.STATUS','VOTER_ID','DRIVING_LICENSE','AADHAAR','PAN','BANK_PASSBOOK']\n",
    "\n",
    "    le=LabelEncoder()\n",
    "    for feature in cat_features_binary:\n",
    "        test_df[feature]=le.fit_transform(test_df[feature])\n",
    "\n",
    "    # Multiple categorical features\n",
    "\n",
    "    cat_features = ['EMPLOY.CONSTITUTION','EDUCATION','CURRENT.STAGE','RESIDENCE.TYPE',\n",
    "                    'PAN.STATUS','OWN.HOUSE.TYPE','PRIMARY.ASSET.CTG','PRIMARY.ASSET.MAKE','ASSET.MAKE','ASSET.CTG']\n",
    "    for feature in cat_features:\n",
    "        test_df[feature]=le.fit_transform(test_df[feature])\n",
    "        \n",
    "    return test_df\n",
    "\n",
    "def get_accuracy(test_df):\n",
    "    test_X = test_df.drop(['QUEUE.ID','APPLICATION.STATUS'],axis = 1)\n",
    "    test_y = test_df['QUEUE.ID']\n",
    "\n",
    "    x_test = test_X.copy()\n",
    "    y_test = test_y\n",
    "    y_pred_rf = rfc.predict(x_test)\n",
    "\n",
    "    print('accuracy of Queue ID (STP or Under Writing) classification is : ',accuracy_score(y_test,y_pred_rf)*100)\n",
    "    print(\"confusion matrix for Application status classification :\\n\",confusion_matrix(y_test,y_pred_rf))\n",
    "#     print('classification report for Application status classification :\\n',classification_report(y_test,y_pred_rf))\n",
    "\n",
    "    test_df['QUEUE.ID'] = y_pred_rf\n",
    "    new_df = test_df.loc[test_df['QUEUE.ID'] == 0] # Accuracy for Straight through process\n",
    "    \n",
    "    new_df.drop(['QUEUE.ID'],axis = 1,inplace = True)\n",
    "    x_test = new_df.drop(['APPLICATION.STATUS'],axis = 1)\n",
    "    y_test = new_df['APPLICATION.STATUS']\n",
    "\n",
    "#     print(x_test.shape, y_test.shape)\n",
    "\n",
    "    y_pred_rfc_stp = rfc_stp.predict(x_test)\n",
    "\n",
    "    print(\"accuracy of Application status for Stright Through Process is : \",accuracy_score(y_test,y_pred_rfc_stp)*100)\n",
    "    print(\"confusion matrix for Stright Through Process is \\n\",confusion_matrix(y_test,y_pred_rfc_stp))\n",
    "#     print('classification report for Stright Through Process is \\n',classification_report(y_test,y_pred_rfc_stp))\n",
    "    \n",
    "    # \n",
    "    new_df = test_df.loc[test_df['QUEUE.ID'] == 1] # Under Writing\n",
    "    new_df.drop(['QUEUE.ID'],axis = 1,inplace = True)\n",
    "    x_test = new_df.drop(['APPLICATION.STATUS'],axis = 1)\n",
    "    y_test = new_df['APPLICATION.STATUS']\n",
    "\n",
    "    y_pred_rfc_uw = rfc_uw.predict(x_test)\n",
    "\n",
    "    print('accuracy of Application status for Under Writing is : ',accuracy_score(y_test,y_pred_rfc_uw) * 100 )\n",
    "    print('confusion matrix for Under Writing is \\n',confusion_matrix(y_test,y_pred_rfc_uw))\n",
    "#     print('classification report for Under Writing is \\n',classification_report(y_test,y_pred))\n",
    "    \n",
    "def get_result(csv_file_path):\n",
    "    test_df = pd.read_csv(csv_file_path)\n",
    "    print('Testing data size is:',test_df.shape)\n",
    "    df = preprocess_data(test_df)\n",
    "    get_accuracy(df)\n",
    "    \n",
    "csv_file_path = 'dataset/Lending_TRAINING_DATA.csv'\n",
    "get_result(csv_file_path)"
   ]
  },
  {
   "cell_type": "code",
   "execution_count": null,
   "metadata": {},
   "outputs": [],
   "source": []
  }
 ],
 "metadata": {
  "kernelspec": {
   "display_name": "Python 3",
   "language": "python",
   "name": "python3"
  },
  "language_info": {
   "codemirror_mode": {
    "name": "ipython",
    "version": 3
   },
   "file_extension": ".py",
   "mimetype": "text/x-python",
   "name": "python",
   "nbconvert_exporter": "python",
   "pygments_lexer": "ipython3",
   "version": "3.8.7"
  }
 },
 "nbformat": 4,
 "nbformat_minor": 2
}
